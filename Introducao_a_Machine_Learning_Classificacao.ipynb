{
  "nbformat": 4,
  "nbformat_minor": 0,
  "metadata": {
    "colab": {
      "name": "Introducao a Machine Learning Classificacao.ipynb",
      "provenance": [],
      "collapsed_sections": []
    },
    "kernelspec": {
      "name": "python3",
      "display_name": "Python 3"
    }
  },
  "cells": [
    {
      "cell_type": "code",
      "metadata": {
        "id": "jAeNtX4-YVXB",
        "outputId": "a8638f8b-27d4-4f5e-ec22-ccd6d747ed19",
        "colab": {
          "base_uri": "https://localhost:8080/",
          "height": 204
        }
      },
      "source": [
        "import pandas as pandas_importado\n",
        "\n",
        "uri = \"https://gist.githubusercontent.com/guilhermesilveira/2d2efa37d66b6c84a722ea627a897ced/raw/10968b997d885cbded1c92938c7a9912ba41c615/tracking.csv\"\n",
        "dados_lidos_uri = pandas_importado.read_csv(uri)\n",
        "dados_lidos_uri.head()"
      ],
      "execution_count": 3,
      "outputs": [
        {
          "output_type": "execute_result",
          "data": {
            "text/html": [
              "<div>\n",
              "<style scoped>\n",
              "    .dataframe tbody tr th:only-of-type {\n",
              "        vertical-align: middle;\n",
              "    }\n",
              "\n",
              "    .dataframe tbody tr th {\n",
              "        vertical-align: top;\n",
              "    }\n",
              "\n",
              "    .dataframe thead th {\n",
              "        text-align: right;\n",
              "    }\n",
              "</style>\n",
              "<table border=\"1\" class=\"dataframe\">\n",
              "  <thead>\n",
              "    <tr style=\"text-align: right;\">\n",
              "      <th></th>\n",
              "      <th>home</th>\n",
              "      <th>how_it_works</th>\n",
              "      <th>contact</th>\n",
              "      <th>bought</th>\n",
              "    </tr>\n",
              "  </thead>\n",
              "  <tbody>\n",
              "    <tr>\n",
              "      <th>0</th>\n",
              "      <td>1</td>\n",
              "      <td>1</td>\n",
              "      <td>0</td>\n",
              "      <td>0</td>\n",
              "    </tr>\n",
              "    <tr>\n",
              "      <th>1</th>\n",
              "      <td>1</td>\n",
              "      <td>1</td>\n",
              "      <td>0</td>\n",
              "      <td>0</td>\n",
              "    </tr>\n",
              "    <tr>\n",
              "      <th>2</th>\n",
              "      <td>1</td>\n",
              "      <td>1</td>\n",
              "      <td>0</td>\n",
              "      <td>0</td>\n",
              "    </tr>\n",
              "    <tr>\n",
              "      <th>3</th>\n",
              "      <td>1</td>\n",
              "      <td>1</td>\n",
              "      <td>0</td>\n",
              "      <td>0</td>\n",
              "    </tr>\n",
              "    <tr>\n",
              "      <th>4</th>\n",
              "      <td>1</td>\n",
              "      <td>1</td>\n",
              "      <td>0</td>\n",
              "      <td>0</td>\n",
              "    </tr>\n",
              "  </tbody>\n",
              "</table>\n",
              "</div>"
            ],
            "text/plain": [
              "   home  how_it_works  contact  bought\n",
              "0     1             1        0       0\n",
              "1     1             1        0       0\n",
              "2     1             1        0       0\n",
              "3     1             1        0       0\n",
              "4     1             1        0       0"
            ]
          },
          "metadata": {
            "tags": []
          },
          "execution_count": 3
        }
      ]
    },
    {
      "cell_type": "code",
      "metadata": {
        "id": "vJW89WYZZEav"
      },
      "source": [
        "mapa_replace = {\n",
        "    \"home\": \"pagina_principal\",\n",
        "    \"how_it_works\": \"como_que_roda\",\n",
        "    \"contact\": \"contato\",\n",
        "    \"bought\": \"comprado\"\n",
        "}\n",
        "dados_lidos_renomeados = dados_lidos_uri.rename(columns=mapa_replace)"
      ],
      "execution_count": 11,
      "outputs": []
    },
    {
      "cell_type": "code",
      "metadata": {
        "id": "4hYgV0YkYyrf",
        "outputId": "0ea7cc55-4d45-4037-b469-17a5ba5861f9",
        "colab": {
          "base_uri": "https://localhost:8080/",
          "height": 119
        }
      },
      "source": [
        "dados_lidos_x = dados_lidos_renomeados[[\"pagina_principal\",\"como_que_roda\",\"contato\"]]\n",
        "dados_lidos_x.head()\n",
        "dados_lidos_y = dados_lidos_renomeados[\"comprado\"]\n",
        "dados_lidos_y.head()"
      ],
      "execution_count": 13,
      "outputs": [
        {
          "output_type": "execute_result",
          "data": {
            "text/plain": [
              "0    0\n",
              "1    0\n",
              "2    0\n",
              "3    0\n",
              "4    0\n",
              "Name: comprado, dtype: int64"
            ]
          },
          "metadata": {
            "tags": []
          },
          "execution_count": 13
        }
      ]
    },
    {
      "cell_type": "code",
      "metadata": {
        "id": "X0wjhEmXZ8I7",
        "outputId": "45c6356b-5957-4815-e632-d276118a4b43",
        "colab": {
          "base_uri": "https://localhost:8080/",
          "height": 34
        }
      },
      "source": [
        "dados_lidos_renomeados.shape"
      ],
      "execution_count": 14,
      "outputs": [
        {
          "output_type": "execute_result",
          "data": {
            "text/plain": [
              "(99, 4)"
            ]
          },
          "metadata": {
            "tags": []
          },
          "execution_count": 14
        }
      ]
    },
    {
      "cell_type": "code",
      "metadata": {
        "id": "HM1of1yNarPT",
        "outputId": "a3a13dc1-cc38-44b8-f03f-57dcf8f250f4",
        "colab": {
          "base_uri": "https://localhost:8080/",
          "height": 34
        }
      },
      "source": [
        "treino_x = dados_lidos_x[:75]\n",
        "treino_y = dados_lidos_y[:75]\n",
        "teste_x = dados_lidos_x[75:]\n",
        "teste_y = dados_lidos_y[75:]\n",
        "print(\"Sera utilizado %d para treino e %d para teste\" % (len(treino_x), len(teste_x)))"
      ],
      "execution_count": 20,
      "outputs": [
        {
          "output_type": "stream",
          "text": [
            "Sera utilizado 75 para treino e 24 para teste\n"
          ],
          "name": "stdout"
        }
      ]
    },
    {
      "cell_type": "code",
      "metadata": {
        "id": "Z0pgqKiPayHt",
        "outputId": "6f03e8f5-cd6e-401d-857e-1dd639034983",
        "colab": {
          "base_uri": "https://localhost:8080/",
          "height": 34
        }
      },
      "source": [
        "from sklearn.svm import LinearSVC\n",
        "from sklearn.metrics import accuracy_score\n",
        "\n",
        "modelo_rede = LinearSVC()\n",
        "modelo_rede.fit(treino_x,treino_y)\n",
        "previsoes_rede = modelo_rede.predict(teste_x)\n",
        "\n",
        "pontuacao_precisao = accuracy_score(teste_y, previsoes_rede)\n",
        "\n",
        "print(\"A precisao é %.2f %%\" % (pontuacao_precisao*100))"
      ],
      "execution_count": 30,
      "outputs": [
        {
          "output_type": "stream",
          "text": [
            "A precisao é 95.83 %\n"
          ],
          "name": "stdout"
        }
      ]
    },
    {
      "cell_type": "markdown",
      "metadata": {
        "id": "FWwVr9Bpe2FP"
      },
      "source": [
        "# Utilizando biblioteca para separar treino e teste"
      ]
    },
    {
      "cell_type": "code",
      "metadata": {
        "id": "DvLceB9ibztF",
        "outputId": "04c0ae23-44bf-4e61-e9d6-a9da9ff57d63",
        "colab": {
          "base_uri": "https://localhost:8080/",
          "height": 34
        }
      },
      "source": [
        "from sklearn.model_selection import  train_test_split\n",
        "\n",
        "# define a ordem dos numeros aleatorios\n",
        "semente = 20\n",
        "\n",
        "treino_x, teste_x, treino_y, teste_y = train_test_split(dados_lidos_x, dados_lidos_y, test_size = 0.25, random_state=semente, stratify=dados_lidos_y)\n",
        "\n",
        "from sklearn.svm import LinearSVC\n",
        "from sklearn.metrics import accuracy_score\n",
        "\n",
        "modelo_rede = LinearSVC()\n",
        "modelo_rede.fit(treino_x,treino_y)\n",
        "previsoes_rede = modelo_rede.predict(teste_x)\n",
        "\n",
        "pontuacao_precisao = accuracy_score(teste_y, previsoes_rede)\n",
        "\n",
        "print(\"A precisao é %.2f %%\" % (pontuacao_precisao*100))"
      ],
      "execution_count": 45,
      "outputs": [
        {
          "output_type": "stream",
          "text": [
            "A precisao é 96.00 %\n"
          ],
          "name": "stdout"
        }
      ]
    },
    {
      "cell_type": "code",
      "metadata": {
        "id": "c_hifDpZejTC"
      },
      "source": [
        ""
      ],
      "execution_count": 34,
      "outputs": []
    },
    {
      "cell_type": "markdown",
      "metadata": {
        "id": "m7G2lMLBe_Yu"
      },
      "source": [
        ""
      ]
    }
  ]
}