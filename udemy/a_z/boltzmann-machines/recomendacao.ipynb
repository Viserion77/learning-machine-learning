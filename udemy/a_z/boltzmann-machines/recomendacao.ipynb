{
 "cells": [
  {
   "cell_type": "code",
   "execution_count": 1,
   "metadata": {},
   "outputs": [],
   "source": [
    "from rbm import RBM\n",
    "import numpy as np"
   ]
  },
  {
   "cell_type": "code",
   "execution_count": 2,
   "metadata": {},
   "outputs": [],
   "source": [
    "rbm = RBM(num_visible = 6, num_hidden = 2)"
   ]
  },
  {
   "cell_type": "code",
   "execution_count": 3,
   "metadata": {},
   "outputs": [],
   "source": [
    "base = np.array([[1,1,1,0,0,0],\n",
    "                  [1,0,1,0,0,0],\n",
    "                  [1,1,1,0,0,0],\n",
    "                  [0,0,1,1,1,1],\n",
    "                  [0,0,1,1,0,1],\n",
    "                  [0,0,1,1,0,1]])"
   ]
  },
  {
   "cell_type": "code",
   "execution_count": 9,
   "metadata": {},
   "outputs": [],
   "source": [
    "filmes = [\"A bruxa\", \"Invocação do mal\", \"O chamado\", \"Se beber não case\", \"Gente grande\", \"American pie\"]"
   ]
  },
  {
   "cell_type": "code",
   "execution_count": null,
   "metadata": {},
   "outputs": [],
   "source": [
    "rbm.train(base, max_epochs = 5000)"
   ]
  },
  {
   "cell_type": "code",
   "execution_count": null,
   "metadata": {},
   "outputs": [],
   "source": [
    "rbm.weights"
   ]
  },
  {
   "cell_type": "code",
   "execution_count": null,
   "metadata": {},
   "outputs": [],
   "source": [
    "usuario1 = np.array([[1,1,0,1,0,0]])\n",
    "rbm.run_visible(usuario1)"
   ]
  },
  {
   "cell_type": "code",
   "execution_count": null,
   "metadata": {},
   "outputs": [],
   "source": [
    "usuario2 = np.array([[0,0,0,1,1,0]])\n",
    "rbm.run_visible(usuario2)"
   ]
  },
  {
   "cell_type": "code",
   "execution_count": null,
   "metadata": {},
   "outputs": [],
   "source": [
    "camada_escondida = np.array([[1,0]])\n",
    "rbm.run_hidden(camada_escondida)"
   ]
  },
  {
   "cell_type": "code",
   "execution_count": null,
   "metadata": {},
   "outputs": [],
   "source": [
    "for i in range(len(usuario1[0])):\n",
    "    if usuario1[0,i] == 0 and camada_escondida[0,0] == 1:\n",
    "        print(filmes[i])\n"
   ]
  }
 ],
 "metadata": {
  "kernelspec": {
   "display_name": "base",
   "language": "python",
   "name": "python3"
  },
  "language_info": {
   "codemirror_mode": {
    "name": "ipython",
    "version": 3
   },
   "file_extension": ".py",
   "mimetype": "text/x-python",
   "name": "python",
   "nbconvert_exporter": "python",
   "pygments_lexer": "ipython3",
   "version": "3.11.3"
  },
  "orig_nbformat": 4
 },
 "nbformat": 4,
 "nbformat_minor": 2
}
