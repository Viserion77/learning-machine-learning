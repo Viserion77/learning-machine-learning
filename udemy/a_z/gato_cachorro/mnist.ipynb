{
 "cells": [
  {
   "cell_type": "code",
   "execution_count": 11,
   "metadata": {},
   "outputs": [],
   "source": [
    "from keras.models import Sequential\n",
    "from keras.layers import Dense, Flatten, Conv2D, MaxPooling2D, Dropout\n",
    "from keras.layers import BatchNormalization\n",
    "from keras.preprocessing.image import ImageDataGenerator\n",
    "import numpy as np\n",
    "from keras.preprocessing import image"
   ]
  },
  {
   "cell_type": "code",
   "execution_count": 4,
   "metadata": {},
   "outputs": [],
   "source": [
    "classificador = Sequential()\n",
    "classificador.add(Conv2D(32, (3,3), input_shape=(64,64,3), activation='relu'))\n",
    "classificador.add(BatchNormalization())\n",
    "classificador.add(MaxPooling2D(pool_size=(2,2)))\n",
    "\n",
    "classificador.add(Conv2D(32, (3,3), input_shape=(64,64,3), activation='relu'))\n",
    "classificador.add(BatchNormalization())\n",
    "classificador.add(MaxPooling2D(pool_size=(2,2)))\n",
    "\n",
    "classificador.add(Flatten())\n",
    "\n",
    "classificador.add(Dense(units=128, activation='relu'))\n",
    "classificador.add(Dropout(0.2))\n",
    "classificador.add(Dense(units=128, activation='relu'))\n",
    "classificador.add(Dropout(0.2))\n",
    "classificador.add(Dense(units=1, activation='sigmoid'))\n",
    "\n",
    "classificador.compile(optimizer='adam', loss='binary_crossentropy', metrics=['accuracy'])"
   ]
  },
  {
   "cell_type": "code",
   "execution_count": 5,
   "metadata": {},
   "outputs": [],
   "source": [
    "gerador_treinamento = ImageDataGenerator(rescale=1./255, rotation_range=7, horizontal_flip=True, shear_range=0.2, height_shift_range=0.07, zoom_range=0.2)\n",
    "gerador_teste = ImageDataGenerator(rescale=1./255)"
   ]
  },
  {
   "cell_type": "code",
   "execution_count": null,
   "metadata": {},
   "outputs": [],
   "source": [
    "base_treinamento = gerador_treinamento.flow_from_directory('/workspaces/learning-machine-learning/udemy/a_z/gato_cachorro/dataset/training_set', target_size=(64,64), batch_size=32, class_mode='binary')\n",
    "base_teste = gerador_teste.flow_from_directory('/workspaces/learning-machine-learning/udemy/a_z/gato_cachorro/dataset/test_set', target_size=(64,64), batch_size=32, class_mode='binary')"
   ]
  },
  {
   "cell_type": "code",
   "execution_count": null,
   "metadata": {},
   "outputs": [],
   "source": [
    "classificador.fit_generator(base_treinamento, steps_per_epoch=4000/32, epochs=5, validation_data=base_teste, validation_steps=1000/32)"
   ]
  },
  {
   "cell_type": "code",
   "execution_count": 12,
   "metadata": {},
   "outputs": [],
   "source": [
    "imagem_teste = image.load_img('/workspaces/learning-machine-learning/udemy/a_z/gato_cachorro/dataset/test_set/cachorro/dog.3500.jpg', target_size=(64,64))\n",
    "imagem_teste = image.img_to_array(imagem_teste)\n",
    "imagem_teste /= 255\n",
    "imagem_teste = np.expand_dims(imagem_teste, axis=0)"
   ]
  },
  {
   "cell_type": "code",
   "execution_count": null,
   "metadata": {},
   "outputs": [],
   "source": [
    "previsao = classificador.predict(imagem_teste)\n",
    "previsao = (previsao > 0.5)"
   ]
  },
  {
   "cell_type": "code",
   "execution_count": null,
   "metadata": {},
   "outputs": [],
   "source": [
    "base_treinamento.class_indices"
   ]
  }
 ],
 "metadata": {
  "kernelspec": {
   "display_name": "base",
   "language": "python",
   "name": "python3"
  },
  "language_info": {
   "codemirror_mode": {
    "name": "ipython",
    "version": 3
   },
   "file_extension": ".py",
   "mimetype": "text/x-python",
   "name": "python",
   "nbconvert_exporter": "python",
   "pygments_lexer": "ipython3",
   "version": "3.11.5"
  },
  "orig_nbformat": 4
 },
 "nbformat": 4,
 "nbformat_minor": 2
}
