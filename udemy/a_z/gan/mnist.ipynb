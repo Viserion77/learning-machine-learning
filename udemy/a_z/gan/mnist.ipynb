{
 "cells": [
  {
   "cell_type": "code",
   "execution_count": null,
   "metadata": {},
   "outputs": [],
   "source": [
    "import matplotlib.pyplot as plt\n",
    "import numpy as np\n",
    "from keras.datasets import mnist\n",
    "from keras.models import Sequential\n",
    "from keras.layers import InputLayer, Dense, Reshape, Flatten\n",
    "from keras.regularizers import L1L2"
   ]
  },
  {
   "cell_type": "code",
   "execution_count": null,
   "metadata": {},
   "outputs": [],
   "source": [
    "from keras_adversarial import AdversarialModel, simple_gan, gan_targets"
   ]
  },
  {
   "cell_type": "code",
   "execution_count": 27,
   "metadata": {},
   "outputs": [],
   "source": [
    "(previsores_treinamento, _), (_, _) = mnist.load_data()\n",
    "previsores_treinamento = previsores_treinamento.astype('float32') / 255"
   ]
  },
  {
   "cell_type": "code",
   "execution_count": null,
   "metadata": {},
   "outputs": [],
   "source": [
    "gerador = Sequential()\n",
    "gerador.add(Dense(units=500, input_dim=100, activation='relu',\n",
    "                  kernel_regularizer=L1L2(1e-5, 1e-5)))\n",
    "gerador.add(Dense(units=500, activation='relu',\n",
    "                  kernel_regularizer=L1L2(1e-5, 1e-5))) \n",
    "gerador.add(Dense(units=784, activation='sigmoid',\n",
    "                  kernel_regularizer=L1L2(1e-5, 1e-5)))\n",
    "gerador.add(Reshape((28, 28)))\n",
    "\n",
    "discriminador = Sequential()\n",
    "discriminador.add(Flatten(input_shape=(28, 28)))\n",
    "discriminador.add(Dense(units=500, activation='relu',\n",
    "                        kernel_regularizer=L1L2(1e-5, 1e-5)))\n",
    "discriminador.add(Dense(units=500, activation='relu',\n",
    "                        kernel_regularizer=L1L2(1e-5, 1e-5)))\n",
    "discriminador.add(Dense(units=1, activation='sigmoid',\n",
    "                        kernel_regularizer=L1L2(1e-5, 1e-5)))\n",
    "\n",
    "gan = simple_gan(gerador, discriminador, normal_latent_sampling((100,)))\n",
    "modelo = AdversarialModel(base_model=gan,\n",
    "                          player_params=[gerador.trainable_weights,\n",
    "                                          discriminador.trainable_weights])\n",
    "modelo.adversarial_compile(adversarial_optimizer=AdversarialOptimizerSimultaneous(),\n",
    "                            player_optimizers=['adam', 'adam'],\n",
    "                            loss='binary_crossentropy')\n",
    "\n",
    "modelo.fit(x=previsores_treinamento, y=gan_targets(60000),\n",
    "            epochs=100, batch_size=256)"
   ]
  },
  {
   "cell_type": "code",
   "execution_count": null,
   "metadata": {},
   "outputs": [],
   "source": [
    "amostras = np.random.normal(size=(10, 100))\n",
    "previsao = gerador.predict(amostras)"
   ]
  },
  {
   "cell_type": "code",
   "execution_count": null,
   "metadata": {},
   "outputs": [],
   "source": [
    "for i in range(previsao.shape[0]):\n",
    "    plt.imshow(previsao[i, :], cmap='gray')\n",
    "    plt.show()"
   ]
  }
 ],
 "metadata": {
  "kernelspec": {
   "display_name": "base",
   "language": "python",
   "name": "python3"
  },
  "language_info": {
   "codemirror_mode": {
    "name": "ipython",
    "version": 3
   },
   "file_extension": ".py",
   "mimetype": "text/x-python",
   "name": "python",
   "nbconvert_exporter": "python",
   "pygments_lexer": "ipython3",
   "version": "3.11.3"
  },
  "orig_nbformat": 4
 },
 "nbformat": 4,
 "nbformat_minor": 2
}
