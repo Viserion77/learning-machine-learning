{
 "cells": [
  {
   "cell_type": "code",
   "execution_count": 16,
   "metadata": {},
   "outputs": [],
   "source": [
    "import matplotlib.pyplot as plt\n",
    "import numpy as np\n",
    "from keras.datasets import mnist\n",
    "from keras.models import Model, Sequential\n",
    "from keras.layers import Dense, Input"
   ]
  },
  {
   "cell_type": "code",
   "execution_count": 17,
   "metadata": {},
   "outputs": [],
   "source": [
    "(previsores_treinamento, _), (previsores_teste, _) = mnist.load_data()"
   ]
  },
  {
   "cell_type": "code",
   "execution_count": 18,
   "metadata": {},
   "outputs": [],
   "source": [
    "previsores_treinamento = previsores_treinamento.astype('float32') / 255\n",
    "previsores_teste = previsores_teste.astype('float32') / 255"
   ]
  },
  {
   "cell_type": "code",
   "execution_count": 19,
   "metadata": {},
   "outputs": [],
   "source": [
    "previsores_treinamento = previsores_treinamento.reshape((len(previsores_treinamento), np.prod(previsores_treinamento.shape[1:])))\n",
    "previsores_teste = previsores_teste.reshape((len(previsores_teste), np.prod(previsores_teste.shape[1:])))"
   ]
  },
  {
   "cell_type": "code",
   "execution_count": 20,
   "metadata": {},
   "outputs": [],
   "source": [
    "fator_compactacao = 784 / 32"
   ]
  },
  {
   "cell_type": "code",
   "execution_count": 21,
   "metadata": {},
   "outputs": [],
   "source": [
    "autoencoder = Sequential()\n",
    "autoencoder.add(Dense(units = 32, activation = 'relu', input_dim = 784))\n",
    "autoencoder.add(Dense(units = 784, activation = 'sigmoid'))\n",
    "autoencoder.compile(optimizer = 'adam', loss = 'binary_crossentropy',\n",
    "                    metrics = ['accuracy'])"
   ]
  },
  {
   "cell_type": "code",
   "execution_count": null,
   "metadata": {},
   "outputs": [],
   "source": [
    "autoencoder.fit(previsores_treinamento, previsores_treinamento,\n",
    "                epochs = 250, batch_size = 256,\n",
    "                validation_data = (previsores_teste, previsores_teste))"
   ]
  },
  {
   "cell_type": "code",
   "execution_count": null,
   "metadata": {},
   "outputs": [],
   "source": [
    "dimensao_original = Input(shape=(784,))\n",
    "camada_encoder = autoencoder.layers[0]\n",
    "encoder = Model(dimensao_original, camada_encoder(dimensao_original))"
   ]
  },
  {
   "cell_type": "code",
   "execution_count": null,
   "metadata": {},
   "outputs": [],
   "source": [
    "imagens_codificadas = encoder.predict(previsores_teste)\n",
    "imagens_decodificadas = autoencoder.predict(previsores_teste)"
   ]
  },
  {
   "cell_type": "code",
   "execution_count": null,
   "metadata": {},
   "outputs": [],
   "source": [
    "numero_imagens = 10\n",
    "imagens_teste = np.random.randint(previsores_teste.shape[0], size = numero_imagens)\n",
    "plt.figure(figsize=(18, 18))\n",
    "for i, indice_imagem in enumerate(imagens_teste):\n",
    "    # imagem original\n",
    "    eixo = plt.subplot(10, 10, i + 1)\n",
    "    plt.imshow(previsores_teste[indice_imagem].reshape(28,28))\n",
    "    plt.xticks(())\n",
    "    plt.yticks(())\n",
    "    \n",
    "    # imagem codificada\n",
    "    eixo = plt.subplot(10, 10, i + 1 + numero_imagens)\n",
    "    plt.imshow(imagens_codificadas[indice_imagem].reshape(8,4))\n",
    "    plt.xticks(())\n",
    "    plt.yticks(())\n",
    "    \n",
    "    # imagem reconstruída\n",
    "    eixo = plt.subplot(10, 10, i + 1 + numero_imagens * 2)\n",
    "    plt.imshow(imagens_decodificadas[indice_imagem].reshape(28,28))\n",
    "    plt.xticks(())\n",
    "    plt.yticks(())\n",
    "plt.show()"
   ]
  }
 ],
 "metadata": {
  "kernelspec": {
   "display_name": "base",
   "language": "python",
   "name": "python3"
  },
  "language_info": {
   "codemirror_mode": {
    "name": "ipython",
    "version": 3
   },
   "file_extension": ".py",
   "mimetype": "text/x-python",
   "name": "python",
   "nbconvert_exporter": "python",
   "pygments_lexer": "ipython3",
   "version": "3.11.3"
  },
  "orig_nbformat": 4
 },
 "nbformat": 4,
 "nbformat_minor": 2
}
