{
 "cells": [
  {
   "cell_type": "code",
   "execution_count": 17,
   "metadata": {},
   "outputs": [],
   "source": [
    "import matplotlib.pyplot as plt\n",
    "import numpy as np\n",
    "from keras.datasets import mnist\n",
    "from keras.models import Model, Sequential\n",
    "from keras.layers import Dense, Input, Conv2D, MaxPooling2D, UpSampling2D, Flatten, Reshape"
   ]
  },
  {
   "cell_type": "code",
   "execution_count": 18,
   "metadata": {},
   "outputs": [],
   "source": [
    "(previsores_treinamento, _), (previsores_teste, _) = mnist.load_data()"
   ]
  },
  {
   "cell_type": "code",
   "execution_count": 19,
   "metadata": {},
   "outputs": [],
   "source": [
    "previsores_treinamento = previsores_treinamento.reshape((len(previsores_treinamento), 28, 28, 1))\n",
    "previsores_teste = previsores_teste.reshape((len(previsores_teste), 28, 28, 1))"
   ]
  },
  {
   "cell_type": "code",
   "execution_count": 20,
   "metadata": {},
   "outputs": [],
   "source": [
    "previsores_treinamento = previsores_treinamento.astype('float32') / 255\n",
    "previsores_teste = previsores_teste.astype('float32') / 255"
   ]
  },
  {
   "cell_type": "code",
   "execution_count": null,
   "metadata": {},
   "outputs": [],
   "source": [
    "autoencoder = Sequential()\n",
    "\n",
    "autoencoder.add(Conv2D(filters = 16, kernel_size = (3,3), activation = 'relu', input_shape = (28, 28, 1)))\n",
    "autoencoder.add(MaxPooling2D(pool_size = (2,2)))\n",
    "\n",
    "autoencoder.add(Conv2D(filters = 8, kernel_size = (3,3), activation = 'relu', padding = 'same'))\n",
    "autoencoder.add(MaxPooling2D(pool_size = (2,2), padding = 'same'))\n",
    "\n",
    "autoencoder.add(Conv2D(filters = 8, kernel_size = (3,3), activation = 'relu', padding = 'same', strides = (2,2)))\n",
    "\n",
    "autoencoder.add(Flatten())\n",
    "autoencoder.add(Reshape((4, 4, 8)))\n",
    "\n",
    "autoencoder.add(Conv2D(filters = 8, kernel_size = (3,3), activation = 'relu', padding = 'same'))\n",
    "\n",
    "autoencoder.add(UpSampling2D(size = (2,2)))\n",
    "autoencoder.add(Conv2D(filters = 8, kernel_size = (3,3), activation = 'relu', padding = 'same'))\n",
    "\n",
    "autoencoder.add(UpSampling2D(size = (2,2)))\n",
    "autoencoder.add(Conv2D(filters = 16, kernel_size = (3,3), activation = 'relu'))\n",
    "\n",
    "autoencoder.add(UpSampling2D(size = (2,2)))\n",
    "autoencoder.add(Conv2D(filters = 1, kernel_size = (3,3), activation = 'sigmoid', padding = 'same'))\n",
    "\n",
    "autoencoder.compile(optimizer = 'adam', loss = 'binary_crossentropy', metrics = ['accuracy'])\n",
    "autoencoder.fit(previsores_treinamento, previsores_treinamento, epochs = 50, batch_size = 256,\n",
    "                validation_data = (previsores_teste, previsores_teste))"
   ]
  },
  {
   "cell_type": "code",
   "execution_count": null,
   "metadata": {},
   "outputs": [],
   "source": [
    "autoencoder.summary()\n",
    "encoder = Model(inputs = autoencoder.input, outputs = autoencoder.get_layer('flatten_2').output)"
   ]
  },
  {
   "cell_type": "code",
   "execution_count": null,
   "metadata": {},
   "outputs": [],
   "source": [
    "imagens_codificadas = encoder.predict(previsores_teste)\n",
    "imagens_decodificadas = autoencoder.predict(previsores_teste)\n",
    "\n",
    "numero_imagens = 10\n",
    "imagens_teste = np.random.randint(previsores_teste.shape[0], size = numero_imagens)\n",
    "plt.figure(figsize=(18, 18))\n",
    "for i, indice_imagem in enumerate(imagens_teste):\n",
    "    # imagem original\n",
    "    eixo = plt.subplot(10, 10, i + 1)\n",
    "    plt.imshow(previsores_teste[indice_imagem].reshape(28,28))\n",
    "    plt.xticks(())\n",
    "    plt.yticks(())\n",
    "    \n",
    "    # imagem codificada\n",
    "    eixo = plt.subplot(10, 10, i + 1 + numero_imagens)\n",
    "    plt.imshow(imagens_codificadas[indice_imagem].reshape(16,8))\n",
    "    plt.xticks(())\n",
    "    plt.yticks(())\n",
    "    \n",
    "    # imagem reconstruída\n",
    "    eixo = plt.subplot(10, 10, i + 1 + numero_imagens * 2)\n",
    "    plt.imshow(imagens_decodificadas[indice_imagem].reshape(28,28))\n",
    "    plt.xticks(())\n",
    "    plt.yticks(())\n",
    "plt.show()"
   ]
  }
 ],
 "metadata": {
  "kernelspec": {
   "display_name": "base",
   "language": "python",
   "name": "python3"
  },
  "language_info": {
   "codemirror_mode": {
    "name": "ipython",
    "version": 3
   },
   "file_extension": ".py",
   "mimetype": "text/x-python",
   "name": "python",
   "nbconvert_exporter": "python",
   "pygments_lexer": "ipython3",
   "version": "3.11.3"
  },
  "orig_nbformat": 4
 },
 "nbformat": 4,
 "nbformat_minor": 2
}
