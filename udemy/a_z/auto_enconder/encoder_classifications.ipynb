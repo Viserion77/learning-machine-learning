{
 "cells": [
  {
   "cell_type": "code",
   "execution_count": 39,
   "metadata": {},
   "outputs": [],
   "source": [
    "import numpy as np\n",
    "from keras.datasets import mnist\n",
    "from keras.models import Model, Sequential\n",
    "from keras.layers import Dense, Input\n",
    "from keras.utils import to_categorical"
   ]
  },
  {
   "cell_type": "code",
   "execution_count": 40,
   "metadata": {},
   "outputs": [],
   "source": [
    "(previsores_treinamento, classe_treinamento), (previsores_teste, classe_teste) = mnist.load_data()"
   ]
  },
  {
   "cell_type": "code",
   "execution_count": 41,
   "metadata": {},
   "outputs": [],
   "source": [
    "previsores_treinamento = previsores_treinamento.astype('float32') / 255\n",
    "previsores_teste = previsores_teste.astype('float32') / 255\n",
    "\n",
    "classe_dummy_treinamento = to_categorical(classe_treinamento)\n",
    "classe_dummy_teste = to_categorical(classe_teste)"
   ]
  },
  {
   "cell_type": "code",
   "execution_count": 42,
   "metadata": {},
   "outputs": [],
   "source": [
    "previsores_treinamento = previsores_treinamento.reshape((len(previsores_treinamento), np.prod(previsores_treinamento.shape[1:])))\n",
    "previsores_teste = previsores_teste.reshape((len(previsores_teste), np.prod(previsores_teste.shape[1:])))"
   ]
  },
  {
   "cell_type": "code",
   "execution_count": 43,
   "metadata": {},
   "outputs": [],
   "source": [
    "autoencoder = Sequential()\n",
    "autoencoder.add(Dense(units = 32, activation = 'relu', input_dim = 784))\n",
    "autoencoder.add(Dense(units = 784, activation = 'sigmoid'))\n",
    "autoencoder.compile(optimizer = 'adam', loss = 'binary_crossentropy',\n",
    "                    metrics = ['accuracy'])"
   ]
  },
  {
   "cell_type": "code",
   "execution_count": 44,
   "metadata": {},
   "outputs": [
    {
     "name": "stdout",
     "output_type": "stream",
     "text": [
      "Epoch 1/5\n",
      "235/235 [==============================] - 2s 6ms/step - loss: 0.2745 - accuracy: 0.0104 - val_loss: 0.1866 - val_accuracy: 0.0113\n",
      "Epoch 2/5\n",
      "235/235 [==============================] - 1s 6ms/step - loss: 0.1692 - accuracy: 0.0119 - val_loss: 0.1526 - val_accuracy: 0.0127\n",
      "Epoch 3/5\n",
      "235/235 [==============================] - 1s 5ms/step - loss: 0.1435 - accuracy: 0.0111 - val_loss: 0.1330 - val_accuracy: 0.0096\n",
      "Epoch 4/5\n",
      "235/235 [==============================] - 1s 5ms/step - loss: 0.1279 - accuracy: 0.0105 - val_loss: 0.1208 - val_accuracy: 0.0095\n",
      "Epoch 5/5\n",
      "235/235 [==============================] - 1s 5ms/step - loss: 0.1178 - accuracy: 0.0106 - val_loss: 0.1126 - val_accuracy: 0.0092\n"
     ]
    },
    {
     "data": {
      "text/plain": [
       "<keras.src.callbacks.History at 0x7f9960447710>"
      ]
     },
     "execution_count": 44,
     "metadata": {},
     "output_type": "execute_result"
    }
   ],
   "source": [
    "autoencoder.fit(previsores_treinamento, previsores_treinamento,\n",
    "                epochs = 5, batch_size = 256, validation_data = (previsores_teste, previsores_teste))"
   ]
  },
  {
   "cell_type": "code",
   "execution_count": 45,
   "metadata": {},
   "outputs": [],
   "source": [
    "dimensao_original = Input(shape=(784,))\n",
    "camada_encoder = autoencoder.layers[0]\n",
    "encoder = Model(dimensao_original, camada_encoder(dimensao_original))"
   ]
  },
  {
   "cell_type": "code",
   "execution_count": 46,
   "metadata": {},
   "outputs": [
    {
     "name": "stdout",
     "output_type": "stream",
     "text": [
      "1875/1875 [==============================] - 2s 956us/step\n",
      "313/313 [==============================] - 0s 1ms/step\n"
     ]
    }
   ],
   "source": [
    "previsores_treinamento_codificados = encoder.predict(previsores_treinamento)\n",
    "previsores_teste_codificados = encoder.predict(previsores_teste)"
   ]
  },
  {
   "cell_type": "code",
   "execution_count": 47,
   "metadata": {},
   "outputs": [],
   "source": [
    "c1 = Sequential()\n",
    "c1.add(Dense(units = 397, activation = 'relu', input_dim = 784))\n",
    "c1.add(Dense(units = 397, activation = 'relu'))\n",
    "c1.add(Dense(units = 10, activation = 'softmax'))\n",
    "c1.compile(optimizer = 'adam', loss = 'categorical_crossentropy',\n",
    "            metrics = ['accuracy'])\n",
    "c1.fit(previsores_treinamento, classe_dummy_treinamento,\n",
    "        epochs = 10, batch_size = 256, validation_data = (previsores_teste, classe_dummy_teste))"
   ]
  },
  {
   "cell_type": "code",
   "execution_count": null,
   "metadata": {},
   "outputs": [],
   "source": [
    "c2 = Sequential()\n",
    "c2.add(Dense(units = 21, activation = 'relu', input_dim = 32))\n",
    "c2.add(Dense(units = 21, activation = 'relu'))\n",
    "c2.add(Dense(units = 10, activation = 'softmax'))\n",
    "c2.compile(optimizer = 'adam', loss = 'categorical_crossentropy',\n",
    "            metrics = ['accuracy'])\n",
    "c2.fit(previsores_treinamento_codificados, classe_dummy_treinamento,\n",
    "        epochs = 10, batch_size = 256, validation_data = (previsores_teste_codificados, classe_dummy_teste))"
   ]
  }
 ],
 "metadata": {
  "kernelspec": {
   "display_name": "base",
   "language": "python",
   "name": "python3"
  },
  "language_info": {
   "codemirror_mode": {
    "name": "ipython",
    "version": 3
   },
   "file_extension": ".py",
   "mimetype": "text/x-python",
   "name": "python",
   "nbconvert_exporter": "python",
   "pygments_lexer": "ipython3",
   "version": "3.11.3"
  },
  "orig_nbformat": 4
 },
 "nbformat": 4,
 "nbformat_minor": 2
}
