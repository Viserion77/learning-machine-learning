{
 "cells": [
  {
   "cell_type": "code",
   "execution_count": 6,
   "metadata": {},
   "outputs": [],
   "source": [
    "from keras.datasets import mnist\n",
    "from keras.models import Sequential\n",
    "from keras.layers import Dense, Flatten, Conv2D, MaxPooling2D\n",
    "from keras.utils import to_categorical\n",
    "from keras.preprocessing.image import ImageDataGenerator\n"
   ]
  },
  {
   "cell_type": "code",
   "execution_count": 3,
   "metadata": {},
   "outputs": [],
   "source": [
    "(x_trainamento, y_trainamento), (x_teste, y_teste) = mnist.load_data()\n",
    "previsores_trainamento = x_trainamento.reshape(x_trainamento.shape[0], 28, 28, 1)\n",
    "\n",
    "previsores_teste = x_teste.reshape(x_teste.shape[0], 28, 28, 1)\n",
    "previsores_trainamento = previsores_trainamento.astype('float32')\n",
    "previsores_teste = previsores_teste.astype('float32')\n",
    "\n",
    "previsores_trainamento /= 255\n",
    "previsores_teste /= 255\n",
    "\n",
    "classe_trainamento = to_categorical(y_trainamento, 10)\n",
    "classe_teste = to_categorical(y_teste, 10)"
   ]
  },
  {
   "cell_type": "code",
   "execution_count": 4,
   "metadata": {},
   "outputs": [],
   "source": [
    "classificador = Sequential()\n",
    "classificador.add(Conv2D(32, (3,3), input_shape=(28, 28, 1), activation='relu'))\n",
    "classificador.add(MaxPooling2D(pool_size=(2,2)))\n",
    "classificador.add(Flatten())\n",
    "\n",
    "classificador.add(Dense(units=128, activation='relu'))\n",
    "classificador.add(Dense(units=10, activation='softmax'))\n",
    "classificador.compile(loss='categorical_crossentropy', optimizer='adam', metrics=['accuracy'])"
   ]
  },
  {
   "cell_type": "code",
   "execution_count": 7,
   "metadata": {},
   "outputs": [],
   "source": [
    "gerador_treinamento = ImageDataGenerator(rotation_range=7, horizontal_flip=True, shear_range=0.2, height_shift_range=0.07, zoom_range=0.2)\n",
    "gerador_teste = ImageDataGenerator()\n",
    "\n",
    "base_treinamento = gerador_treinamento.flow(previsores_trainamento, classe_trainamento, batch_size=128)\n",
    "base_teste = gerador_teste.flow(previsores_teste, classe_teste, batch_size=128)"
   ]
  },
  {
   "cell_type": "code",
   "execution_count": null,
   "metadata": {},
   "outputs": [],
   "source": [
    "classificador.fit_generator(base_treinamento, steps_per_epoch=60000 / 128, epochs=5, validation_data=base_teste, validation_steps=10000 / 128)"
   ]
  }
 ],
 "metadata": {
  "kernelspec": {
   "display_name": "base",
   "language": "python",
   "name": "python3"
  },
  "language_info": {
   "codemirror_mode": {
    "name": "ipython",
    "version": 3
   },
   "file_extension": ".py",
   "mimetype": "text/x-python",
   "name": "python",
   "nbconvert_exporter": "python",
   "pygments_lexer": "ipython3",
   "version": "3.11.3"
  },
  "orig_nbformat": 4
 },
 "nbformat": 4,
 "nbformat_minor": 2
}
