{
 "cells": [
  {
   "cell_type": "code",
   "execution_count": 2,
   "metadata": {},
   "outputs": [],
   "source": [
    "from keras.datasets import mnist\n",
    "from keras.models import Sequential\n",
    "from keras.layers import Dense, Flatten, Conv2D, MaxPooling2D\n",
    "from keras.utils import to_categorical\n",
    "import numpy as np\n",
    "from sklearn.model_selection import StratifiedKFold"
   ]
  },
  {
   "cell_type": "code",
   "execution_count": 3,
   "metadata": {},
   "outputs": [],
   "source": [
    "seed = 5\n",
    "np.random.seed(seed)"
   ]
  },
  {
   "cell_type": "code",
   "execution_count": 4,
   "metadata": {},
   "outputs": [],
   "source": [
    "(X, y), (X_test, y_test) = mnist.load_data()\n",
    "previsores = X.reshape(X.shape[0], 28, 28, 1)\n",
    "previsores = previsores.astype('float32')\n",
    "previsores /= 255\n",
    "classe = to_categorical(y, 10)"
   ]
  },
  {
   "cell_type": "code",
   "execution_count": 5,
   "metadata": {},
   "outputs": [],
   "source": [
    "kfold = StratifiedKFold(n_splits=5, shuffle=True, random_state=seed)\n",
    "resultados = []"
   ]
  },
  {
   "cell_type": "code",
   "execution_count": 6,
   "metadata": {},
   "outputs": [],
   "source": [
    "a = np.zeros(5)\n",
    "b = np.zeros(shape=(classe.shape[0], 1))"
   ]
  },
  {
   "cell_type": "code",
   "execution_count": null,
   "metadata": {},
   "outputs": [],
   "source": [
    "for indicie_treinamento, indicie_teste in kfold.split(previsores, np.zeros(shape=(classe.shape[0], 1))):\n",
    "    # print('Indicie treinamento: ', indicie_treinamento, 'Indicie teste: ', indicie_teste)\n",
    "    classificador = Sequential()\n",
    "    classificador.add(Conv2D(32, (3, 3), input_shape=(28, 28, 1), activation='relu'))\n",
    "    classificador.add(MaxPooling2D(pool_size=(2, 2)))\n",
    "    classificador.add(Flatten())\n",
    "    classificador.add(Dense(units=128, activation='relu'))\n",
    "    classificador.add(Dense(units=10, activation='softmax'))\n",
    "    classificador.compile(loss='categorical_crossentropy', optimizer='adam', metrics=['accuracy'])\n",
    "    classificador.fit(previsores[indicie_treinamento], classe[indicie_treinamento], batch_size=128, epochs=5)\n",
    "    precisao = classificador.evaluate(previsores[indicie_teste], classe[indicie_teste])\n",
    "    resultados.append(precisao[1])"
   ]
  },
  {
   "cell_type": "code",
   "execution_count": null,
   "metadata": {},
   "outputs": [],
   "source": [
    "media = sum(resultados) / len(resultados)"
   ]
  }
 ],
 "metadata": {
  "kernelspec": {
   "display_name": "base",
   "language": "python",
   "name": "python3"
  },
  "language_info": {
   "codemirror_mode": {
    "name": "ipython",
    "version": 3
   },
   "file_extension": ".py",
   "mimetype": "text/x-python",
   "name": "python",
   "nbconvert_exporter": "python",
   "pygments_lexer": "ipython3",
   "version": "3.11.3"
  },
  "orig_nbformat": 4
 },
 "nbformat": 4,
 "nbformat_minor": 2
}
