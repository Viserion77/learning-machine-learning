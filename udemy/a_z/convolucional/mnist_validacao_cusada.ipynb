{
 "cells": [
  {
   "cell_type": "code",
   "execution_count": 2,
   "metadata": {},
   "outputs": [],
   "source": [
    "from keras.datasets import mnist\n",
    "from keras.models import Sequential\n",
    "from keras.layers import Dense, Flatten, Conv2D, MaxPooling2D\n",
    "from keras.utils import to_categorical\n",
    "import numpy as np\n",
    "from sklearn.model_selection import StratifiedKFold"
   ]
  },
  {
   "cell_type": "code",
   "execution_count": 3,
   "metadata": {},
   "outputs": [],
   "source": [
    "seed = 5\n",
    "np.random.seed(seed)"
   ]
  },
  {
   "cell_type": "code",
   "execution_count": 4,
   "metadata": {},
   "outputs": [],
   "source": [
    "(X, y), (X_test, y_test) = mnist.load_data()\n",
    "previsores = X.reshape(X.shape[0], 28, 28, 1)\n",
    "previsores = previsores.astype('float32')\n",
    "previsores /= 255\n",
    "classe = to_categorical(y, 10)"
   ]
  },
  {
   "cell_type": "code",
   "execution_count": 5,
   "metadata": {},
   "outputs": [],
   "source": [
    "kfold = StratifiedKFold(n_splits=5, shuffle=True, random_state=seed)\n",
    "resultados = []"
   ]
  },
  {
   "cell_type": "code",
   "execution_count": 6,
   "metadata": {},
   "outputs": [],
   "source": [
    "a = np.zeros(5)\n",
    "b = np.zeros(shape=(classe.shape[0], 1))"
   ]
  },
  {
   "cell_type": "code",
   "execution_count": 7,
   "metadata": {},
   "outputs": [
    {
     "name": "stdout",
     "output_type": "stream",
     "text": [
      "Epoch 1/5\n",
      "375/375 [==============================] - 8s 19ms/step - loss: 0.2457 - accuracy: 0.9306\n",
      "Epoch 2/5\n",
      "375/375 [==============================] - 7s 18ms/step - loss: 0.0735 - accuracy: 0.9784\n",
      "Epoch 3/5\n",
      "375/375 [==============================] - 6s 17ms/step - loss: 0.0486 - accuracy: 0.9855\n",
      "Epoch 4/5\n",
      "375/375 [==============================] - 7s 19ms/step - loss: 0.0362 - accuracy: 0.9888\n",
      "Epoch 5/5\n",
      "375/375 [==============================] - 7s 17ms/step - loss: 0.0267 - accuracy: 0.9919\n",
      "375/375 [==============================] - 2s 4ms/step - loss: 0.0638 - accuracy: 0.9808\n",
      "Epoch 1/5\n",
      "375/375 [==============================] - 7s 17ms/step - loss: 0.2425 - accuracy: 0.9332\n",
      "Epoch 2/5\n",
      "375/375 [==============================] - 7s 19ms/step - loss: 0.0733 - accuracy: 0.9787\n",
      "Epoch 3/5\n",
      "375/375 [==============================] - 7s 18ms/step - loss: 0.0505 - accuracy: 0.9853\n",
      "Epoch 4/5\n",
      "375/375 [==============================] - 7s 18ms/step - loss: 0.0364 - accuracy: 0.9892\n",
      "Epoch 5/5\n",
      "375/375 [==============================] - 7s 17ms/step - loss: 0.0273 - accuracy: 0.9920\n",
      "375/375 [==============================] - 2s 4ms/step - loss: 0.0567 - accuracy: 0.9822\n",
      "Epoch 1/5\n",
      "375/375 [==============================] - 8s 18ms/step - loss: 0.2335 - accuracy: 0.9340\n",
      "Epoch 2/5\n",
      "375/375 [==============================] - 7s 18ms/step - loss: 0.0692 - accuracy: 0.9800\n",
      "Epoch 3/5\n",
      "375/375 [==============================] - 7s 18ms/step - loss: 0.0474 - accuracy: 0.9860\n",
      "Epoch 4/5\n",
      "375/375 [==============================] - 8s 20ms/step - loss: 0.0342 - accuracy: 0.9896\n",
      "Epoch 5/5\n",
      "375/375 [==============================] - 7s 18ms/step - loss: 0.0242 - accuracy: 0.9930\n",
      "375/375 [==============================] - 2s 4ms/step - loss: 0.0491 - accuracy: 0.9851\n",
      "Epoch 1/5\n",
      "375/375 [==============================] - 7s 17ms/step - loss: 0.2659 - accuracy: 0.9255\n",
      "Epoch 2/5\n",
      "375/375 [==============================] - 6s 16ms/step - loss: 0.0820 - accuracy: 0.9755\n",
      "Epoch 3/5\n",
      "375/375 [==============================] - 7s 18ms/step - loss: 0.0525 - accuracy: 0.9846\n",
      "Epoch 4/5\n",
      "375/375 [==============================] - 6s 17ms/step - loss: 0.0396 - accuracy: 0.9880\n",
      "Epoch 5/5\n",
      "375/375 [==============================] - 8s 21ms/step - loss: 0.0304 - accuracy: 0.9904\n",
      "375/375 [==============================] - 2s 5ms/step - loss: 0.0500 - accuracy: 0.9848\n",
      "Epoch 1/5\n",
      "375/375 [==============================] - 8s 20ms/step - loss: 0.2422 - accuracy: 0.9313\n",
      "Epoch 2/5\n",
      "375/375 [==============================] - 7s 18ms/step - loss: 0.0737 - accuracy: 0.9790\n",
      "Epoch 3/5\n",
      "375/375 [==============================] - 7s 17ms/step - loss: 0.0489 - accuracy: 0.9853\n",
      "Epoch 4/5\n",
      "375/375 [==============================] - 7s 20ms/step - loss: 0.0363 - accuracy: 0.9889\n",
      "Epoch 5/5\n",
      "375/375 [==============================] - 6s 15ms/step - loss: 0.0271 - accuracy: 0.9920\n",
      "375/375 [==============================] - 1s 3ms/step - loss: 0.0515 - accuracy: 0.9837\n"
     ]
    }
   ],
   "source": [
    "for indicie_treinamento, indicie_teste in kfold.split(previsores, np.zeros(shape=(classe.shape[0], 1))):\n",
    "    # print('Indicie treinamento: ', indicie_treinamento, 'Indicie teste: ', indicie_teste)\n",
    "    classificador = Sequential()\n",
    "    classificador.add(Conv2D(32, (3, 3), input_shape=(28, 28, 1), activation='relu'))\n",
    "    classificador.add(MaxPooling2D(pool_size=(2, 2)))\n",
    "    classificador.add(Flatten())\n",
    "    classificador.add(Dense(units=128, activation='relu'))\n",
    "    classificador.add(Dense(units=10, activation='softmax'))\n",
    "    classificador.compile(loss='categorical_crossentropy', optimizer='adam', metrics=['accuracy'])\n",
    "    classificador.fit(previsores[indicie_treinamento], classe[indicie_treinamento], batch_size=128, epochs=5)\n",
    "    precisao = classificador.evaluate(previsores[indicie_teste], classe[indicie_teste])\n",
    "    resultados.append(precisao[1])"
   ]
  },
  {
   "cell_type": "code",
   "execution_count": null,
   "metadata": {},
   "outputs": [],
   "source": [
    "media = sum(resultados) / len(resultados)"
   ]
  }
 ],
 "metadata": {
  "kernelspec": {
   "display_name": "base",
   "language": "python",
   "name": "python3"
  },
  "language_info": {
   "codemirror_mode": {
    "name": "ipython",
    "version": 3
   },
   "file_extension": ".py",
   "mimetype": "text/x-python",
   "name": "python",
   "nbconvert_exporter": "python",
   "pygments_lexer": "ipython3",
   "version": "3.11.3"
  },
  "orig_nbformat": 4
 },
 "nbformat": 4,
 "nbformat_minor": 2
}
