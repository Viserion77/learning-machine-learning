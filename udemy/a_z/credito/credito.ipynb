{
 "cells": [
  {
   "cell_type": "code",
   "execution_count": 100,
   "metadata": {},
   "outputs": [],
   "source": [
    "from minisom import MiniSom\n",
    "import pandas as pd\n",
    "import numpy as np"
   ]
  },
  {
   "cell_type": "code",
   "execution_count": 101,
   "metadata": {},
   "outputs": [],
   "source": [
    "base = pd.read_csv('credit_data.csv')\n",
    "base = base.dropna()\n",
    "base.loc[base.age < 0, 'age'] = 40.92"
   ]
  },
  {
   "cell_type": "code",
   "execution_count": 102,
   "metadata": {},
   "outputs": [],
   "source": [
    "x = base.iloc[:, 1:4].values\n",
    "y = base.iloc[:, 4].values"
   ]
  },
  {
   "cell_type": "code",
   "execution_count": 103,
   "metadata": {},
   "outputs": [],
   "source": [
    "from sklearn.preprocessing import MinMaxScaler\n",
    "normalizador = MinMaxScaler(feature_range = (0,1))\n",
    "x = normalizador.fit_transform(x)"
   ]
  },
  {
   "cell_type": "code",
   "execution_count": 104,
   "metadata": {},
   "outputs": [],
   "source": [
    "som = MiniSom(x = 15, y = 15, input_len = 3, sigma = 1.0, random_seed = 0, learning_rate = 0.5)\n",
    "som.random_weights_init(x)\n",
    "som.train_random(data = x, num_iteration = 100)"
   ]
  },
  {
   "cell_type": "code",
   "execution_count": null,
   "metadata": {},
   "outputs": [],
   "source": [
    "from pylab import pcolor, colorbar, plot\n",
    "pcolor(som.distance_map().T)\n",
    "colorbar()\n",
    "markers = ['o', 's']\n",
    "colors = ['r', 'g']\n",
    "for i, x in enumerate(x):\n",
    "    w = som.winner(x)\n",
    "    plot(w[0] + 0.5,\n",
    "         w[1] + 0.5,\n",
    "         markers[y[i]],\n",
    "         markeredgecolor = colors[y[i]],\n",
    "         markerfacecolor = 'None',\n",
    "         markersize = 10,\n",
    "         markeredgewidth = 2)\n"
   ]
  },
  {
   "cell_type": "code",
   "execution_count": 105,
   "metadata": {},
   "outputs": [],
   "source": [
    "mapeamento = som.win_map(x)\n",
    "suspeitos = np.concatenate((mapeamento[(12, 14)], mapeamento[(11, 14)]), axis = 0)\n",
    "suspeitos = normalizador.inverse_transform(suspeitos)\n",
    "\n",
    "classe = []\n",
    "for i in range(len(base)):\n",
    "    for j in range(len(suspeitos)):\n",
    "        if base.iloc[i, 1] == suspeitos[j, 0] and base.iloc[i, 2] == suspeitos[j, 1] and base.iloc[i, 3] == suspeitos[j, 2]:\n",
    "            classe.append(base.iloc[i, 4])\n",
    "classe = np.asarray(classe)\n",
    "\n",
    "# suspeitos_final = np.column_stack((suspeitos, classe))\n",
    "# suspeitos_final = suspeitos_final[suspeitos_final[:, 3].argsort()]"
   ]
  }
 ],
 "metadata": {
  "kernelspec": {
   "display_name": "Python 3",
   "language": "python",
   "name": "python3"
  },
  "language_info": {
   "codemirror_mode": {
    "name": "ipython",
    "version": 3
   },
   "file_extension": ".py",
   "mimetype": "text/x-python",
   "name": "python",
   "nbconvert_exporter": "python",
   "pygments_lexer": "ipython3",
   "version": "3.11.5"
  },
  "orig_nbformat": 4
 },
 "nbformat": 4,
 "nbformat_minor": 2
}
