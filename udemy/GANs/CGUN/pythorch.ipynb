{
 "cells": [
  {
   "cell_type": "code",
   "execution_count": null,
   "metadata": {},
   "outputs": [],
   "source": [
    "import cv2\n",
    "import os\n",
    "from matplotlib import pyplot as plt"
   ]
  },
  {
   "cell_type": "code",
   "execution_count": null,
   "metadata": {},
   "outputs": [],
   "source": [
    "!git clone https://github.com/junyanz/pytorch-CycleGAN-and-pix2pix"
   ]
  },
  {
   "cell_type": "code",
   "execution_count": null,
   "metadata": {},
   "outputs": [],
   "source": [
    "%cd pytorch-CycleGAN-and-pix2pix/"
   ]
  },
  {
   "cell_type": "code",
   "execution_count": null,
   "metadata": {},
   "outputs": [],
   "source": [
    "!pip install -r requirements.txt"
   ]
  },
  {
   "cell_type": "code",
   "execution_count": null,
   "metadata": {},
   "outputs": [],
   "source": [
    "nome_modelo = 'facades_label2photo'"
   ]
  },
  {
   "cell_type": "code",
   "execution_count": null,
   "metadata": {},
   "outputs": [],
   "source": [
    "diretorio_modelo = \"./checkpoints/\" + nome_modelo + \"/\"\n",
    "diretorio_modelo"
   ]
  },
  {
   "cell_type": "code",
   "execution_count": null,
   "metadata": {},
   "outputs": [],
   "source": [
    "!mkdir -p $diretorio_modelo"
   ]
  },
  {
   "cell_type": "code",
   "execution_count": null,
   "metadata": {},
   "outputs": [],
   "source": [
    "url_modelo = \"http://efrosgans.eecs.berkeley.edu/pix2pix/models-pytorch/\" + nome_modelo + \".pth\"\n",
    "url_modelo"
   ]
  },
  {
   "cell_type": "code",
   "execution_count": null,
   "metadata": {},
   "outputs": [],
   "source": [
    "!wget -N $url_modelo -O $diretorio_modelo\"/latest_net_G.pth\""
   ]
  },
  {
   "cell_type": "markdown",
   "metadata": {},
   "source": [
    "# download dataset"
   ]
  },
  {
   "cell_type": "code",
   "execution_count": null,
   "metadata": {},
   "outputs": [],
   "source": [
    "dataset = \"facades\"\n",
    "arquivo_dataset = \"{}.tar.gz\".format(dataset)\n",
    "url_dataset = \"http://efrosgans.eecs.berkeley.edu/pix2pix/datasets/\" + arquivo_dataset"
   ]
  },
  {
   "cell_type": "code",
   "execution_count": null,
   "metadata": {},
   "outputs": [],
   "source": [
    "!wget -N $url_dataset -O $arquivo_dataset"
   ]
  },
  {
   "cell_type": "code",
   "execution_count": null,
   "metadata": {},
   "outputs": [],
   "source": [
    "!tar -xf $arquivo_dataset"
   ]
  },
  {
   "cell_type": "code",
   "execution_count": null,
   "metadata": {},
   "outputs": [],
   "source": [
    "!python test.py --dataroot ./datasets/{dataset} --direction BtoA --model pix2pix --name {nome_modelo}_pretrained --gpu_ids -1"
   ]
  },
  {
   "cell_type": "code",
   "execution_count": null,
   "metadata": {},
   "outputs": [],
   "source": [
    "diretorio_resultados = \"./results/\" + nome_modelo + \"_pretrained/test_latest/images/\""
   ]
  },
  {
   "cell_type": "code",
   "execution_count": null,
   "metadata": {},
   "outputs": [],
   "source": [
    "img_resultado = cv2.imread(diretorio_resultados + \"100_fake.png\")\n",
    "plt.imshow(cv2.cvtColor(img_resultado, cv2.COLOR_BGR2RGB))\n",
    "plt.show()"
   ]
  },
  {
   "cell_type": "code",
   "execution_count": null,
   "metadata": {},
   "outputs": [],
   "source": [
    "img_resultado = cv2.imread(diretorio_resultados + \"100_real.png\")\n",
    "plt.imshow(cv2.cvtColor(img_resultado, cv2.COLOR_BGR2RGB))\n",
    "plt.show()"
   ]
  },
  {
   "cell_type": "code",
   "execution_count": null,
   "metadata": {},
   "outputs": [],
   "source": [
    "img_resultado = cv2.imread(diretorio_resultados + \"100_real_A.png\")\n",
    "plt.imshow(cv2.cvtColor(img_resultado, cv2.COLOR_BGR2RGB))\n",
    "plt.show()"
   ]
  },
  {
   "cell_type": "markdown",
   "metadata": {},
   "source": [
    "# Desenho em foto"
   ]
  },
  {
   "cell_type": "code",
   "execution_count": null,
   "metadata": {},
   "outputs": [],
   "source": [
    "nome_modelo = 'edges2shoes'\n",
    "diretorio_modelo = \"./checkpoints/\" + nome_modelo + \"_pretrained/\"\n",
    "!mkdir -p $diretorio_modelo"
   ]
  },
  {
   "cell_type": "code",
   "execution_count": null,
   "metadata": {},
   "outputs": [],
   "source": [
    "url_modelo = \"http://efrosgans.eecs.berkeley.edu/pix2pix/models-pytorch/\" + nome_modelo + \".pth\"\n",
    "!wget -N $url_modelo -O $diretorio_modelo\"latest_net_G.pth\""
   ]
  },
  {
   "cell_type": "code",
   "execution_count": null,
   "metadata": {},
   "outputs": [],
   "source": [
    "!mkdir -p ./images/test/"
   ]
  },
  {
   "cell_type": "code",
   "execution_count": null,
   "metadata": {},
   "outputs": [],
   "source": [
    "!python test.py --dataroot ./images/ --name {nome_modelo}_pretrained --model test --dataset_mode single --netG unet_256 --norm batch"
   ]
  },
  {
   "cell_type": "markdown",
   "metadata": {},
   "source": [
    "# Exibi;áo do teste com varias imagens"
   ]
  },
  {
   "cell_type": "code",
   "execution_count": null,
   "metadata": {},
   "outputs": [],
   "source": [
    "diretorio_resultados = \"./results/\" + nome_modelo + \"_pretrained/test_latest/images/\""
   ]
  },
  {
   "cell_type": "code",
   "execution_count": 1,
   "metadata": {},
   "outputs": [],
   "source": [
    "def exibir_resultado(nome_imagem):\n",
    "  img_entrada = cv2.imread(\"./images/test/\" + nome_imagem + \"_real.jpg\")\n",
    "  img_resultado = cv2.imread(diretorio_resultados + nome_imagem + \"_fake.png\")\n",
    "  imgs = [img_entrada, img_resultado]\n",
    "  titles = ['Imagem de entrada', 'Imagem gerada']\n",
    "  for i in range(2):\n",
    "    plt.subplot(1, 2, i+1)\n",
    "    plt.imshow(cv2.cvtColor(imgs[i], cv2.COLOR_BGR2RGB))\n",
    "    plt.title(titles[i])\n",
    "    plt.xticks([])\n",
    "    plt.yticks([])\n",
    "  plt.show()\n"
   ]
  },
  {
   "cell_type": "code",
   "execution_count": null,
   "metadata": {},
   "outputs": [],
   "source": [
    "img = 'desenhoSapato'\n",
    "exibir_resultado(img)\n",
    "dir_imagem = \"./images/test/\"\n",
    "lista_imagens = [os.path.splitext(f)[0] for f in os.listdir(dir_imagem) if os.path.isfile(os.path.join(dir_imagem, f))]\n",
    "for img in lista_imagens:\n",
    "  exibir_resultado(img)"
   ]
  }
 ],
 "metadata": {
  "kernelspec": {
   "display_name": "Python 3",
   "language": "python",
   "name": "python3"
  },
  "language_info": {
   "codemirror_mode": {
    "name": "ipython",
    "version": 3
   },
   "file_extension": ".py",
   "mimetype": "text/x-python",
   "name": "python",
   "nbconvert_exporter": "python",
   "pygments_lexer": "ipython3",
   "version": "3.11.5"
  },
  "orig_nbformat": 4
 },
 "nbformat": 4,
 "nbformat_minor": 2
}
