{
 "cells": [
  {
   "cell_type": "code",
   "execution_count": null,
   "metadata": {},
   "outputs": [],
   "source": [
    "import os\n",
    "import time\n",
    "from matplotlib import pyplot as plt\n",
    "from IPython.display import clear_output\n",
    "import tensorflow as tf\n",
    "from tensorflow.keras.preprocessing.image import ImageDataGenerator"
   ]
  },
  {
   "cell_type": "code",
   "execution_count": null,
   "metadata": {},
   "outputs": [],
   "source": [
    "# !pip install git+https://github.com/tensorflow/examples.git"
   ]
  },
  {
   "cell_type": "code",
   "execution_count": null,
   "metadata": {},
   "outputs": [],
   "source": [
    "tf.random.set_seed(789)"
   ]
  },
  {
   "cell_type": "code",
   "execution_count": null,
   "metadata": {},
   "outputs": [],
   "source": [
    "AUTOTUNE = tf.data.experimental.AUTOTUNE\n",
    "\n",
    "def load_dataset(path):\n",
    "    dataset = tf.data.Dataset.list_files(path + '/*.*', shuffle=False)\n",
    "    dataset = dataset.map(tf.io.read_file)\n",
    "    dataset = dataset.map(tf.image.decode_jpeg, num_parallel_calls=AUTOTUNE)\n",
    "    return dataset\n",
    "\n",
    "# Load the training and test datasets\n",
    "treinamento_A = load_dataset('CycleGAN/train/a')\n",
    "treinamento_B = load_dataset('CycleGAN/train/b')\n",
    "teste_A = load_dataset('CycleGAN/test/a')\n",
    "teste_B = load_dataset('CycleGAN/test/b')\n"
   ]
  },
  {
   "cell_type": "code",
   "execution_count": null,
   "metadata": {},
   "outputs": [],
   "source": [
    "quantidade_treinamento = tf.data.experimental.cardinality(treinamento_A)"
   ]
  },
  {
   "cell_type": "markdown",
   "metadata": {},
   "source": [
    "# Preparação dos dados"
   ]
  },
  {
   "cell_type": "code",
   "execution_count": null,
   "metadata": {},
   "outputs": [],
   "source": [
    "buffer_size = quantidade_treinamento\n",
    "batch_size = 1\n",
    "img_altura = 286\n",
    "img_largura = 286"
   ]
  },
  {
   "cell_type": "code",
   "execution_count": null,
   "metadata": {},
   "outputs": [],
   "source": [
    "def crop_aleratorio(imagem):\n",
    "  imagem = tf.image.random_crop(imagem, size=[img_altura, img_largura, 3])\n",
    "  return imagem"
   ]
  },
  {
   "cell_type": "code",
   "execution_count": null,
   "metadata": {},
   "outputs": [],
   "source": [
    "def normalizar(imagem):\n",
    "  imagem = tf.cast(imagem, tf.float32)\n",
    "  imagem = (imagem / 127.5) - 1\n",
    "  return imagem"
   ]
  },
  {
   "cell_type": "code",
   "execution_count": null,
   "metadata": {},
   "outputs": [],
   "source": [
    "def jitter_aleatorio(imagem):\n",
    "  imagem = tf.image.resize(imagem, [img_altura, img_largura], method=tf.image.ResizeMethod.NEAREST_NEIGHBOR)\n",
    "  imagem = crop_aleratorio(imagem)\n",
    "  imagem = tf.image.random_flip_left_right(imagem)\n",
    "  return imagem"
   ]
  },
  {
   "cell_type": "code",
   "execution_count": null,
   "metadata": {},
   "outputs": [],
   "source": [
    "def processar_imagem_treinamento(imagem):\n",
    "  imagem = jitter_aleatorio(imagem)\n",
    "  imagem = normalizar(imagem)\n",
    "  return imagem"
   ]
  },
  {
   "cell_type": "code",
   "execution_count": null,
   "metadata": {},
   "outputs": [],
   "source": [
    "def processar_imagem_teste(imagem):\n",
    "  imagem = normalizar(imagem)\n",
    "  return imagem"
   ]
  },
  {
   "cell_type": "code",
   "execution_count": null,
   "metadata": {},
   "outputs": [],
   "source": [
    "treinamento_A = treinamento_A.cache().map(processar_imagem_treinamento, num_parallel_calls=tf.data.experimental.AUTOTUNE).shuffle(buffer_size).batch(batch_size)\n",
    "treinamento_B = treinamento_B.cache().map(processar_imagem_treinamento, num_parallel_calls=tf.data.experimental.AUTOTUNE).shuffle(buffer_size).batch(batch_size)\n",
    "teste_A = teste_A.cache().map(processar_imagem_teste, num_parallel_calls=tf.data.experimental.AUTOTUNE).shuffle(buffer_size).batch(batch_size)\n",
    "teste_B = teste_B.cache().map(processar_imagem_teste, num_parallel_calls=tf.data.experimental.AUTOTUNE).shuffle(buffer_size).batch(batch_size)"
   ]
  },
  {
   "cell_type": "code",
   "execution_count": null,
   "metadata": {},
   "outputs": [],
   "source": [
    "amostra_A = next(iter(treinamento_A))\n",
    "amostra_B = next(iter(treinamento_B))"
   ]
  },
  {
   "cell_type": "code",
   "execution_count": null,
   "metadata": {},
   "outputs": [],
   "source": [
    "print(amostra_A.shape)\n",
    "plt.figure(figsize=(6, 6))\n",
    "for i in range(4):\n",
    "  a_jitter = jitter_aleatorio(amostra_A[0])\n",
    "  plt.subplot(2, 2, i+1)\n",
    "  plt.imshow(a_jitter * 0.5 + 0.5)\n",
    "  plt.axis('off')\n",
    "plt.show()"
   ]
  },
  {
   "cell_type": "code",
   "execution_count": null,
   "metadata": {},
   "outputs": [],
   "source": [
    "print(amostra_B.shape)\n",
    "plt.figure(figsize=(6, 6))\n",
    "for i in range(4):\n",
    "  a_jitter = jitter_aleatorio(amostra_B[0])\n",
    "  plt.subplot(2, 2, i+1)\n",
    "  plt.imshow(a_jitter * 0.5 + 0.5)\n",
    "  plt.axis('off')\n",
    "plt.show()"
   ]
  },
  {
   "cell_type": "code",
   "execution_count": null,
   "metadata": {},
   "outputs": [],
   "source": []
  }
 ],
 "metadata": {
  "kernelspec": {
   "display_name": "Python 3",
   "language": "python",
   "name": "python3"
  },
  "language_info": {
   "codemirror_mode": {
    "name": "ipython",
    "version": 3
   },
   "file_extension": ".py",
   "mimetype": "text/x-python",
   "name": "python",
   "nbconvert_exporter": "python",
   "pygments_lexer": "ipython3",
   "version": "3.11.5"
  },
  "orig_nbformat": 4
 },
 "nbformat": 4,
 "nbformat_minor": 2
}
