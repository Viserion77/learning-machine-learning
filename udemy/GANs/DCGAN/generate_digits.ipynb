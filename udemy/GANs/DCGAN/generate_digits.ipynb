{
 "cells": [
  {
   "cell_type": "code",
   "execution_count": null,
   "metadata": {},
   "outputs": [],
   "source": [
    "import matplotlib.pyplot as plt\n",
    "import numpy as np\n",
    "import tensorflow as tf\n",
    "from tensorflow.keras import layers"
   ]
  },
  {
   "cell_type": "markdown",
   "metadata": {},
   "source": [
    "# Preparação dos dados"
   ]
  },
  {
   "cell_type": "code",
   "execution_count": null,
   "metadata": {},
   "outputs": [],
   "source": [
    "(x_treinamento, y_treinamento), (_, _) = tf.keras.datasets.mnist.load_data()"
   ]
  },
  {
   "cell_type": "code",
   "execution_count": null,
   "metadata": {},
   "outputs": [],
   "source": [
    "x_treinamento.shape"
   ]
  },
  {
   "cell_type": "code",
   "execution_count": null,
   "metadata": {},
   "outputs": [],
   "source": [
    "x_treinamento.shape[1] * x_treinamento.shape[2]"
   ]
  },
  {
   "cell_type": "code",
   "execution_count": null,
   "metadata": {},
   "outputs": [],
   "source": [
    "i = np.random.randint(0, x_treinamento.shape[0])\n",
    "plt.imshow(x_treinamento[i], cmap = 'gray')\n",
    "plt.title('É o numero ' + str(y_treinamento[i]))"
   ]
  },
  {
   "cell_type": "code",
   "execution_count": null,
   "metadata": {},
   "outputs": [],
   "source": [
    "x_treinamento = x_treinamento.reshape((x_treinamento.shape[0], x_treinamento.shape[1], x_treinamento.shape[2], 1)).astype('float32')\n",
    "x_treinamento.shape"
   ]
  },
  {
   "cell_type": "code",
   "execution_count": null,
   "metadata": {},
   "outputs": [],
   "source": [
    "x_treinamento[0].min(), x_treinamento[0].max()"
   ]
  },
  {
   "cell_type": "code",
   "execution_count": null,
   "metadata": {},
   "outputs": [],
   "source": [
    "meio_escala = x_treinamento[0].max() / 2\n",
    "x_treinamento = (x_treinamento - meio_escala) / meio_escala"
   ]
  },
  {
   "cell_type": "code",
   "execution_count": null,
   "metadata": {},
   "outputs": [],
   "source": [
    "buffer_size = x_treinamento.shape[0]\n",
    "batch_size = 256"
   ]
  },
  {
   "cell_type": "code",
   "execution_count": null,
   "metadata": {},
   "outputs": [],
   "source": [
    "buffer_size / batch_size"
   ]
  },
  {
   "cell_type": "code",
   "execution_count": null,
   "metadata": {},
   "outputs": [],
   "source": [
    "type(x_treinamento)"
   ]
  },
  {
   "cell_type": "code",
   "execution_count": null,
   "metadata": {},
   "outputs": [],
   "source": [
    "x_treinamento = tf.data.Dataset.from_tensor_slices(x_treinamento).shuffle(buffer_size).batch(batch_size)"
   ]
  },
  {
   "cell_type": "code",
   "execution_count": null,
   "metadata": {},
   "outputs": [],
   "source": [
    "type(x_treinamento)"
   ]
  },
  {
   "cell_type": "code",
   "execution_count": null,
   "metadata": {},
   "outputs": [],
   "source": [
    "x_treinamento"
   ]
  },
  {
   "cell_type": "markdown",
   "metadata": {},
   "source": [
    "# Gerador"
   ]
  },
  {
   "cell_type": "code",
   "execution_count": null,
   "metadata": {},
   "outputs": [],
   "source": [
    "# largura x altura x canais\n",
    "neuronios_ocultos = 7 * 7 * 256"
   ]
  },
  {
   "cell_type": "code",
   "execution_count": null,
   "metadata": {},
   "outputs": [],
   "source": [
    "def cria_gerador():\n",
    "    network = tf.keras.Sequential()\n",
    "    network.add(layers.Dense(units = neuronios_ocultos, use_bias = False, input_shape = (100, )))\n",
    "    network.add(layers.BatchNormalization())\n",
    "    network.add(layers.LeakyReLU())\n",
    "\n",
    "    network.add(layers.Reshape((7, 7, 256)))\n",
    "\n",
    "    # 7x7x128\n",
    "    network.add(layers.Conv2DTranspose(filters = 128, kernel_size = 5, padding = 'same', use_bias = False))\n",
    "    network.add(layers.BatchNormalization())\n",
    "    network.add(layers.LeakyReLU())\n",
    "\n",
    "    # 14x14x64\n",
    "    network.add(layers.Conv2DTranspose(filters = 64, kernel_size = 5, strides = 2, padding = 'same', use_bias = False))\n",
    "    network.add(layers.BatchNormalization())\n",
    "    network.add(layers.LeakyReLU())\n",
    "\n",
    "    # 28x28x1\n",
    "    network.add(layers.Conv2DTranspose(filters = 1, kernel_size = 5, strides = 2, padding = 'same', use_bias = False, activation = 'tanh'))\n",
    "    network.summary()\n",
    "\n",
    "    return network"
   ]
  },
  {
   "cell_type": "code",
   "execution_count": null,
   "metadata": {},
   "outputs": [],
   "source": [
    "gerador = cria_gerador()\n",
    "gerador.input"
   ]
  },
  {
   "cell_type": "code",
   "execution_count": null,
   "metadata": {},
   "outputs": [],
   "source": [
    "ruido = tf.random.normal([1, 100])\n",
    "ruido"
   ]
  },
  {
   "cell_type": "code",
   "execution_count": null,
   "metadata": {},
   "outputs": [],
   "source": [
    "imagem_gerada = gerador(ruido, training = False)\n",
    "imagem_gerada.shape"
   ]
  },
  {
   "cell_type": "code",
   "execution_count": null,
   "metadata": {},
   "outputs": [],
   "source": [
    "plt.imshow(imagem_gerada[0, :, :, 0], cmap = 'gray')\n",
    "plt.title('Imagem gerada pelo gerador')"
   ]
  },
  {
   "cell_type": "markdown",
   "metadata": {},
   "source": [
    "# Discriminador"
   ]
  },
  {
   "cell_type": "code",
   "execution_count": null,
   "metadata": {},
   "outputs": [],
   "source": [
    "def cria_discriminador():\n",
    "    network = tf.keras.Sequential()\n",
    "\n",
    "    # 14x14x64\n",
    "    network.add(layers.Conv2D(filters = 64, kernel_size = 5, padding = 'same', input_shape = [28, 28, 1], strides = 2))\n",
    "    network.add(layers.LeakyReLU())\n",
    "    network.add(layers.Dropout(0.3))\n",
    "\n",
    "    # 7x7x128\n",
    "    network.add(layers.Conv2D(filters = 128, kernel_size = 5, padding = 'same', strides = 2))\n",
    "    network.add(layers.LeakyReLU())\n",
    "    network.add(layers.Dropout(0.3))\n",
    "\n",
    "    network.add(layers.Flatten())\n",
    "    network.add(layers.Dense(units = 1))\n",
    "\n",
    "    network.summary()\n",
    "    return network"
   ]
  },
  {
   "cell_type": "code",
   "execution_count": null,
   "metadata": {},
   "outputs": [],
   "source": [
    "discriminador = cria_discriminador()\n",
    "discriminador.input\n"
   ]
  },
  {
   "cell_type": "code",
   "execution_count": null,
   "metadata": {},
   "outputs": [],
   "source": [
    "discriminador(imagem_gerada, training = False) # logits"
   ]
  },
  {
   "cell_type": "code",
   "execution_count": null,
   "metadata": {},
   "outputs": [],
   "source": [
    "tf.sigmoid(discriminador(imagem_gerada, training = False)).numpy() # probabilidade"
   ]
  },
  {
   "cell_type": "markdown",
   "metadata": {},
   "source": [
    "# Calculo do erro"
   ]
  },
  {
   "cell_type": "code",
   "execution_count": null,
   "metadata": {},
   "outputs": [],
   "source": [
    "tf.ones_like(1)"
   ]
  },
  {
   "cell_type": "code",
   "execution_count": null,
   "metadata": {},
   "outputs": [],
   "source": [
    "tf.ones_like(0)"
   ]
  },
  {
   "cell_type": "code",
   "execution_count": null,
   "metadata": {},
   "outputs": [],
   "source": [
    "cross_entropy = tf.keras.losses.BinaryCrossentropy(from_logits = True)"
   ]
  },
  {
   "cell_type": "code",
   "execution_count": null,
   "metadata": {},
   "outputs": [],
   "source": [
    "def descriminator_loss(real_output, fake_output):\n",
    "    real_loss = cross_entropy(tf.ones_like(real_output), real_output)\n",
    "    fake_loss = cross_entropy(tf.zeros_like(fake_output), fake_output)\n",
    "\n",
    "    total_loss = real_loss + fake_loss\n",
    "\n",
    "    return total_loss"
   ]
  },
  {
   "cell_type": "code",
   "execution_count": null,
   "metadata": {},
   "outputs": [],
   "source": [
    "def generator_loss(fake_output):\n",
    "    return cross_entropy(tf.ones_like(fake_output), fake_output)\n"
   ]
  },
  {
   "cell_type": "code",
   "execution_count": null,
   "metadata": {},
   "outputs": [],
   "source": [
    "gerador_otimizador = tf.keras.optimizers.Adam(1e-4)\n",
    "discriminador_otimizador = tf.keras.optimizers.Adam(1e-4)"
   ]
  },
  {
   "cell_type": "markdown",
   "metadata": {},
   "source": [
    "# Treinamento"
   ]
  },
  {
   "cell_type": "code",
   "execution_count": null,
   "metadata": {},
   "outputs": [],
   "source": [
    "x_treinamento"
   ]
  },
  {
   "cell_type": "code",
   "execution_count": null,
   "metadata": {},
   "outputs": [],
   "source": [
    "epochs = 100\n",
    "ruido_dimensao = 100\n",
    "numero_exemplos_para_gerar = 16"
   ]
  },
  {
   "cell_type": "code",
   "execution_count": null,
   "metadata": {},
   "outputs": [],
   "source": [
    "batch_size, ruido_dimensao"
   ]
  },
  {
   "cell_type": "code",
   "execution_count": null,
   "metadata": {},
   "outputs": [],
   "source": [
    "@tf.function\n",
    "def treinamento(imagens):\n",
    "  ruido = tf.random.normal([batch_size, ruido_dimensao])\n",
    "\n",
    "  with tf.GradientTape() as gerador_tape, tf.GradientTape() as discriminador_tape:\n",
    "    imagens_geradas = gerador(ruido, training = True)\n",
    "\n",
    "    expected_output = discriminador(imagens, training = True)\n",
    "    fake_output = discriminador(imagens_geradas, training = True)\n",
    "\n",
    "    gerador_loss = generator_loss(fake_output)\n",
    "    discriminador_loss = descriminator_loss(expected_output, fake_output)\n",
    "\n",
    "  gradientes_gerador = gerador_tape.gradient(gerador_loss, gerador.trainable_variables)\n",
    "  gradientes_discriminador = discriminador_tape.gradient(discriminador_loss, discriminador.trainable_variables)\n",
    "\n",
    "  gerador_otimizador.apply_gradients(zip(gradientes_gerador, gerador.trainable_variables))\n",
    "  discriminador_otimizador.apply_gradients(zip(gradientes_discriminador, discriminador.trainable_variables))"
   ]
  },
  {
   "cell_type": "code",
   "execution_count": null,
   "metadata": {},
   "outputs": [],
   "source": [
    "imagens_teste = tf.random.normal([numero_exemplos_para_gerar, ruido_dimensao])\n",
    "imagens_teste.shape"
   ]
  },
  {
   "cell_type": "code",
   "execution_count": null,
   "metadata": {},
   "outputs": [],
   "source": [
    "def treina_gan(dataset, epochs, imagens_teste):\n",
    "  for epoca in range(epochs):\n",
    "    print('Época: ' + str(epoca))\n",
    "    for imagem_batch in dataset:\n",
    "      treinamento(imagem_batch)\n",
    "\n",
    "    imagens_geradas = gerador(imagens_teste, training = False)\n",
    "    fig = plt.figure(figsize = (10, 10))\n",
    "    for i in range(imagens_geradas.shape[0]):\n",
    "      plt.subplot(4, 4, i + 1)\n",
    "      plt.imshow(imagens_geradas[i, :, :, 0] * 127.5 + 127.5, cmap = 'gray')\n",
    "      plt.axis('off')\n",
    "    plt.show()"
   ]
  },
  {
   "cell_type": "code",
   "execution_count": null,
   "metadata": {},
   "outputs": [],
   "source": [
    "treina_gan(x_treinamento, epochs, imagens_teste)"
   ]
  }
 ],
 "metadata": {
  "kernelspec": {
   "display_name": "Python 3",
   "language": "python",
   "name": "python3"
  },
  "language_info": {
   "codemirror_mode": {
    "name": "ipython",
    "version": 3
   },
   "file_extension": ".py",
   "mimetype": "text/x-python",
   "name": "python",
   "nbconvert_exporter": "python",
   "pygments_lexer": "ipython3",
   "version": "3.11.5"
  },
  "orig_nbformat": 4
 },
 "nbformat": 4,
 "nbformat_minor": 2
}
