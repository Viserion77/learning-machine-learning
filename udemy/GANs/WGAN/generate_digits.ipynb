{
 "cells": [
  {
   "cell_type": "code",
   "execution_count": null,
   "metadata": {},
   "outputs": [],
   "source": [
    "import matplotlib.pyplot as plt\n",
    "import numpy as np\n",
    "import tensorflow as tf\n",
    "import os\n",
    "import time\n",
    "from IPython import display\n",
    "from tensorflow import keras\n",
    "from tensorflow.keras import layers"
   ]
  },
  {
   "cell_type": "markdown",
   "metadata": {},
   "source": [
    "# Preparação dos dados"
   ]
  },
  {
   "cell_type": "code",
   "execution_count": null,
   "metadata": {},
   "outputs": [],
   "source": [
    "(x_treinamento, y_treinamento), (_, _) = tf.keras.datasets.mnist.load_data()"
   ]
  },
  {
   "cell_type": "code",
   "execution_count": null,
   "metadata": {},
   "outputs": [],
   "source": [
    "x_treinamento.shape"
   ]
  },
  {
   "cell_type": "code",
   "execution_count": null,
   "metadata": {},
   "outputs": [],
   "source": [
    "x_treinamento.shape[1] * x_treinamento.shape[2]"
   ]
  },
  {
   "cell_type": "code",
   "execution_count": null,
   "metadata": {},
   "outputs": [],
   "source": [
    "i = np.random.randint(0, x_treinamento.shape[0])\n",
    "plt.imshow(x_treinamento[i], cmap = 'gray')\n",
    "plt.title('É o numero ' + str(y_treinamento[i]))"
   ]
  },
  {
   "cell_type": "code",
   "execution_count": null,
   "metadata": {},
   "outputs": [],
   "source": [
    "x_treinamento = x_treinamento.reshape((x_treinamento.shape[0], x_treinamento.shape[1], x_treinamento.shape[2], 1)).astype('float32')\n",
    "x_treinamento.shape"
   ]
  },
  {
   "cell_type": "code",
   "execution_count": null,
   "metadata": {},
   "outputs": [],
   "source": [
    "x_treinamento[0].min(), x_treinamento[0].max()"
   ]
  },
  {
   "cell_type": "code",
   "execution_count": null,
   "metadata": {},
   "outputs": [],
   "source": [
    "meio_escala = x_treinamento[0].max() / 2\n",
    "x_treinamento = (x_treinamento - meio_escala) / meio_escala"
   ]
  },
  {
   "cell_type": "code",
   "execution_count": null,
   "metadata": {},
   "outputs": [],
   "source": [
    "buffer_size = x_treinamento.shape[0]\n",
    "batch_size = 256"
   ]
  },
  {
   "cell_type": "code",
   "execution_count": null,
   "metadata": {},
   "outputs": [],
   "source": [
    "buffer_size / batch_size"
   ]
  },
  {
   "cell_type": "code",
   "execution_count": null,
   "metadata": {},
   "outputs": [],
   "source": [
    "type(x_treinamento)"
   ]
  },
  {
   "cell_type": "code",
   "execution_count": null,
   "metadata": {},
   "outputs": [],
   "source": [
    "x_treinamento = tf.data.Dataset.from_tensor_slices(x_treinamento).shuffle(buffer_size).batch(batch_size)"
   ]
  },
  {
   "cell_type": "code",
   "execution_count": null,
   "metadata": {},
   "outputs": [],
   "source": [
    "type(x_treinamento)"
   ]
  },
  {
   "cell_type": "code",
   "execution_count": null,
   "metadata": {},
   "outputs": [],
   "source": [
    "x_treinamento"
   ]
  },
  {
   "cell_type": "markdown",
   "metadata": {},
   "source": [
    "# Gerador"
   ]
  },
  {
   "cell_type": "code",
   "execution_count": null,
   "metadata": {},
   "outputs": [],
   "source": [
    "# largura x altura x canais\n",
    "neuronios_ocultos = 7 * 7 * 256"
   ]
  },
  {
   "cell_type": "code",
   "execution_count": null,
   "metadata": {},
   "outputs": [],
   "source": [
    "def cria_gerador():\n",
    "    network = tf.keras.Sequential()\n",
    "    network.add(layers.Dense(units = neuronios_ocultos, use_bias = False, input_shape = (100, )))\n",
    "    network.add(layers.BatchNormalization())\n",
    "    network.add(layers.LeakyReLU())\n",
    "\n",
    "    network.add(layers.Reshape((7, 7, 256)))\n",
    "\n",
    "    # 7x7x128\n",
    "    network.add(layers.Conv2DTranspose(filters = 128, kernel_size = 5, padding = 'same', use_bias = False))\n",
    "    network.add(layers.BatchNormalization())\n",
    "    network.add(layers.LeakyReLU())\n",
    "\n",
    "    # 14x14x64\n",
    "    network.add(layers.Conv2DTranspose(filters = 64, kernel_size = 5, strides = 2, padding = 'same', use_bias = False))\n",
    "    network.add(layers.BatchNormalization())\n",
    "    network.add(layers.LeakyReLU())\n",
    "\n",
    "    # 28x28x1\n",
    "    network.add(layers.Conv2DTranspose(filters = 1, kernel_size = 5, strides = 2, padding = 'same', use_bias = False, activation = 'tanh'))\n",
    "    network.summary()\n",
    "\n",
    "    return network"
   ]
  },
  {
   "cell_type": "code",
   "execution_count": null,
   "metadata": {},
   "outputs": [],
   "source": [
    "gerador = cria_gerador()\n",
    "gerador.input"
   ]
  },
  {
   "cell_type": "code",
   "execution_count": null,
   "metadata": {},
   "outputs": [],
   "source": [
    "ruido = tf.random.normal([1, 100])\n",
    "ruido"
   ]
  },
  {
   "cell_type": "code",
   "execution_count": null,
   "metadata": {},
   "outputs": [],
   "source": [
    "imagem_gerada = gerador(ruido, training = False)\n",
    "imagem_gerada.shape"
   ]
  },
  {
   "cell_type": "code",
   "execution_count": null,
   "metadata": {},
   "outputs": [],
   "source": [
    "plt.imshow(imagem_gerada[0, :, :, 0], cmap = 'gray')\n",
    "plt.title('Imagem gerada pelo gerador')"
   ]
  },
  {
   "cell_type": "markdown",
   "metadata": {},
   "source": [
    "# Critico"
   ]
  },
  {
   "cell_type": "code",
   "execution_count": null,
   "metadata": {},
   "outputs": [],
   "source": [
    "def cria_critico():\n",
    "    network = tf.keras.Sequential()\n",
    "\n",
    "    # 14x14x64\n",
    "    network.add(layers.Conv2D(filters = 64, kernel_size = 5, padding = 'same', input_shape = [28, 28, 1], strides = 2))\n",
    "    network.add(layers.LeakyReLU())\n",
    "    network.add(layers.Dropout(0.3))\n",
    "\n",
    "    # 7x7x128\n",
    "    network.add(layers.Conv2D(filters = 128, kernel_size = 5, padding = 'same', strides = 2))\n",
    "    network.add(layers.LeakyReLU())\n",
    "    network.add(layers.Dropout(0.3))\n",
    "\n",
    "    network.add(layers.Flatten())\n",
    "    network.add(layers.Dense(units = 1))\n",
    "\n",
    "    network.summary()\n",
    "    return network"
   ]
  },
  {
   "cell_type": "code",
   "execution_count": null,
   "metadata": {},
   "outputs": [],
   "source": [
    "critico = cria_critico()\n",
    "critico.input\n"
   ]
  },
  {
   "cell_type": "code",
   "execution_count": null,
   "metadata": {},
   "outputs": [],
   "source": [
    "critico(imagem_gerada, training = False) # logits"
   ]
  },
  {
   "cell_type": "code",
   "execution_count": null,
   "metadata": {},
   "outputs": [],
   "source": [
    "tf.sigmoid(critico(imagem_gerada, training = False)).numpy() # probabilidade"
   ]
  },
  {
   "cell_type": "markdown",
   "metadata": {},
   "source": [
    "# Wasserstein Loss (Calculo do erro)"
   ]
  },
  {
   "cell_type": "code",
   "execution_count": null,
   "metadata": {},
   "outputs": [],
   "source": [
    "def loss_gerador(fake_saida):\n",
    "    g_los = -1. * tf.reduce_mean(fake_saida)\n",
    "    return g_los"
   ]
  },
  {
   "cell_type": "code",
   "execution_count": null,
   "metadata": {},
   "outputs": [],
   "source": [
    "tf.math.reduce_mean(tf.sigmoid(critico(imagem_gerada, training = False)))"
   ]
  },
  {
   "cell_type": "code",
   "execution_count": null,
   "metadata": {},
   "outputs": [],
   "source": [
    "def loss_critico(real_saida, fake_saida, gradiente_penalidade):\n",
    "    c_lambda = 10\n",
    "    d_loss = tf.math.reduce_mean(fake_saida) - tf.math.reduce_mean(real_saida) + c_lambda * gradiente_penalidade\n",
    "    return d_loss"
   ]
  },
  {
   "cell_type": "markdown",
   "metadata": {},
   "source": [
    "## Gradient Penalty"
   ]
  },
  {
   "cell_type": "code",
   "execution_count": null,
   "metadata": {},
   "outputs": [],
   "source": [
    "@tf.function\n",
    "def gradient_penalty(real, fake, epsilon):\n",
    "  imgs_interpoladas = real * epsilon + fake * (1 - epsilon)\n",
    "  with tf.GradientTape() as tape:\n",
    "    tape.watch(imgs_interpoladas)\n",
    "    scores = critico(imgs_interpoladas)\n",
    "\n",
    "  gradiente = tape.gradient(scores, imgs_interpoladas)[0]\n",
    "  grad_norm = tf.norm(gradiente)\n",
    "  gp = tf.math.reduce_mean((grad_norm - 1.) ** 2)\n",
    "  return gp\n"
   ]
  },
  {
   "cell_type": "code",
   "execution_count": null,
   "metadata": {},
   "outputs": [],
   "source": [
    "gerador_otimizador = tf.keras.optimizers.Adam(learning_rate = 0.0002, beta_1 = 0.5, beta_2 = 0.9)\n",
    "critico_otimizador = tf.keras.optimizers.Adam(learning_rate = 0.0002, beta_1 = 0.5, beta_2 = 0.9)"
   ]
  },
  {
   "cell_type": "code",
   "execution_count": null,
   "metadata": {},
   "outputs": [],
   "source": [
    "checkpoint_dir = './treinamento_gan_checkpoints'\n",
    "checkpoint_prefix = os.path.join(checkpoint_dir, 'ckpt')\n",
    "checkpoint = tf.train.Checkpoint(generator_optimizer = gerador_otimizador,\n",
    "                                  discrimanator_optimizer = critico_otimizador,\n",
    "                                  generator = gerador,\n",
    "                                  discriminator = critico)"
   ]
  },
  {
   "cell_type": "markdown",
   "metadata": {},
   "source": [
    "# Treinamento"
   ]
  },
  {
   "cell_type": "code",
   "execution_count": null,
   "metadata": {},
   "outputs": [],
   "source": [
    "epochs = 1\n",
    "noise_dim = 100\n",
    "num_examples_to_generate = 16\n",
    "seed = tf.random.normal([num_examples_to_generate, noise_dim])"
   ]
  },
  {
   "cell_type": "code",
   "execution_count": null,
   "metadata": {},
   "outputs": [],
   "source": [
    "def etapa_treinamento(imgs):\n",
    "  noise = tf.random.normal([batch_size, noise_dim])\n",
    "  critico_etapas_extras = 3\n",
    "\n",
    "  for i in range(critico_etapas_extras):\n",
    "    with tf.GradientTape() as c_tape:\n",
    "      imgs_geradas = gerador(noise, training = True)\n",
    "      real_output = critico(imgs, training = True)\n",
    "      fake_output = critico(imgs_geradas, training = True)\n",
    "      epsilon = tf.random.normal([batch_size, 1, 1, 1], 0.0, 1.0)\n",
    "      gp = gradient_penalty(imgs, imgs_geradas, epsilon)\n",
    "      d_loss = loss_critico(real_output, fake_output, gp)\n",
    "    \n",
    "    critic_gradients = c_tape.gradient(d_loss, critico.trainable_variables)\n",
    "    critico_otimizador.apply_gradients(zip(critic_gradients, critico.trainable_variables))\n",
    "\n",
    "  with tf.GradientTape() as g_tape:\n",
    "    imgs_geradas = gerador(noise, training = True)\n",
    "    fake_output = critico(imgs_geradas, training = True)\n",
    "    g_loss = loss_gerador(fake_output)\n",
    "\n",
    "  gerador_gradients = g_tape.gradient(g_loss, gerador.trainable_variables)\n",
    "  gerador_otimizador.apply_gradients(zip(gerador_gradients, gerador.trainable_variables))\n",
    "      "
   ]
  },
  {
   "cell_type": "code",
   "execution_count": null,
   "metadata": {},
   "outputs": [],
   "source": [
    "def gerar_e_salvar_imgs(model,epoch, test_input):\n",
    "  preds = model(test_input, training = False)\n",
    "\n",
    "  fig = plt.figure(figsize = (4, 4))\n",
    "  for i in range(preds.shape[0]):\n",
    "    plt.subplot(4, 4, i + 1)\n",
    "    plt.imshow(preds[i, :, :, 0] * meio_escala + meio_escala, cmap = 'gray')\n",
    "    plt.axis('off')\n",
    "  plt.savefig('image_at_epoch_{:04d}.png'.format(epoch))\n",
    "  plt.show()"
   ]
  },
  {
   "cell_type": "code",
   "execution_count": null,
   "metadata": {},
   "outputs": [],
   "source": [
    "def treinar(dataset, epochs):\n",
    "  for epoch in range(epochs):\n",
    "    inicio = time.time()\n",
    "    for imgs in dataset:\n",
    "      if len(imgs) == batch_size:\n",
    "        etapa_treinamento(imgs)\n",
    "    \n",
    "    display.clear_output(wait = True)\n",
    "    gerar_e_salvar_imgs(gerador, epoch + 1, seed)\n",
    "    if (epoch + 1) % 15 == 0:\n",
    "      checkpoint.save(file_prefix = checkpoint_prefix)\n",
    "    print('Tempo para a época {} é {} sec'.format(epoch + 1, time.time() - inicio))\n",
    "  \n",
    "  display.clear_output(wait = True)\n",
    "  gerar_e_salvar_imgs(gerador, epochs, seed)\n",
    "  gerador.save('gerador.h5')"
   ]
  },
  {
   "cell_type": "code",
   "execution_count": null,
   "metadata": {},
   "outputs": [],
   "source": [
    "treinar(x_treinamento, epochs)"
   ]
  },
  {
   "cell_type": "code",
   "execution_count": null,
   "metadata": {},
   "outputs": [],
   "source": [
    "checkpoint.restore(tf.train.latest_checkpoint(checkpoint_dir))"
   ]
  },
  {
   "cell_type": "code",
   "execution_count": null,
   "metadata": {},
   "outputs": [],
   "source": [
    "seed_input = tf.random.normal([num_examples_to_generate, noise_dim])\n",
    "preds = gerador(seed_input, training = False)\n",
    "fig = plt.figure(figsize = (4, 4))\n",
    "for i in range(preds.shape[0]):\n",
    "  plt.subplot(4, 4, i + 1)\n",
    "  plt.imshow(preds[i, :, :, 0] * meio_escala + meio_escala, cmap = 'gray')\n",
    "  plt.axis('off')\n",
    "plt.show()"
   ]
  }
 ],
 "metadata": {
  "kernelspec": {
   "display_name": "Python 3",
   "language": "python",
   "name": "python3"
  },
  "language_info": {
   "codemirror_mode": {
    "name": "ipython",
    "version": 3
   },
   "file_extension": ".py",
   "mimetype": "text/x-python",
   "name": "python",
   "nbconvert_exporter": "python",
   "pygments_lexer": "ipython3",
   "version": "3.11.5"
  },
  "orig_nbformat": 4
 },
 "nbformat": 4,
 "nbformat_minor": 2
}
