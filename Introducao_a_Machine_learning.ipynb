{
  "nbformat": 4,
  "nbformat_minor": 0,
  "metadata": {
    "colab": {
      "name": "Introdução a Machine learning.ipynb",
      "provenance": [],
      "collapsed_sections": []
    },
    "kernelspec": {
      "name": "python3",
      "display_name": "Python 3"
    }
  },
  "cells": [
    {
      "cell_type": "code",
      "metadata": {
        "id": "wWL3HMk8s9Em"
      },
      "source": [
        "# features\n",
        "# possui Dente longo?\n",
        "# possui Assas?\n",
        "# possui Bico?\n",
        "dragao1 = [0, 1, 0]\n",
        "dragao2 = [0, 1, 1]\n",
        "dragao3 = [1, 1, 0]\n",
        "\n",
        "aguia1 = [0, 1, 0]\n",
        "aguia2 = [1, 0, 1]\n",
        "aguia3 = [1, 1, 1]\n",
        "\n",
        "# 0 dragao // 1 aguia\n",
        "treino_rede_x = [dragao1, dragao2, dragao3, aguia1, aguia2, aguia3]\n",
        "treino_rede_y = [0, 0, 0, 1, 1, 1] # labels / etiqueta"
      ],
      "execution_count": null,
      "outputs": []
    },
    {
      "cell_type": "code",
      "metadata": {
        "id": "oT4ST3f-tHLP",
        "outputId": "d9cc968b-7350-4514-dab9-3d73c27dad9a",
        "colab": {
          "base_uri": "https://localhost:8080/",
          "height": 85
        }
      },
      "source": [
        "from sklearn.svm import LinearSVC\n",
        "\n",
        "redeNeural = LinearSVC()\n",
        "redeNeural.fit(treino_rede_x, treino_rede_y)"
      ],
      "execution_count": null,
      "outputs": [
        {
          "output_type": "execute_result",
          "data": {
            "text/plain": [
              "LinearSVC(C=1.0, class_weight=None, dual=True, fit_intercept=True,\n",
              "          intercept_scaling=1, loss='squared_hinge', max_iter=1000,\n",
              "          multi_class='ovr', penalty='l2', random_state=None, tol=0.0001,\n",
              "          verbose=0)"
            ]
          },
          "metadata": {
            "tags": []
          },
          "execution_count": 2
        }
      ]
    },
    {
      "cell_type": "code",
      "metadata": {
        "id": "dVHXdnKcuL0J"
      },
      "source": [
        "animal_misterioso1 = [1, 1, 1]\n",
        "animal_misterioso2 = [1, 1, 0]\n",
        "animal_misterioso3 = [0, 1, 1]\n",
        "teste_rede_x = [animal_misterioso1, animal_misterioso2, animal_misterioso3]\n",
        "testes_rede_y = [0, 1, 1]"
      ],
      "execution_count": null,
      "outputs": []
    },
    {
      "cell_type": "code",
      "metadata": {
        "id": "YiVwuk3OyALw"
      },
      "source": [
        "previsoes = redeNeural.predict(teste_rede_x)"
      ],
      "execution_count": null,
      "outputs": []
    },
    {
      "cell_type": "code",
      "metadata": {
        "id": "DAo_l7GOvlEV",
        "outputId": "375934af-7eab-41fd-b988-da5ff4a81292",
        "colab": {
          "base_uri": "https://localhost:8080/",
          "height": 34
        }
      },
      "source": [
        "corretos = (previsoes == testes_rede_y).sum()\n",
        "total = len(teste_rede_x)\n",
        "taxa_acerto = corretos/total\n",
        "print(\"Taxa de acerto %.2f\" % (taxa_acerto*100))"
      ],
      "execution_count": null,
      "outputs": [
        {
          "output_type": "stream",
          "text": [
            "Taxa de acerto 0.00\n"
          ],
          "name": "stdout"
        }
      ]
    },
    {
      "cell_type": "code",
      "metadata": {
        "id": "Kv9apluYvrGp",
        "outputId": "49a6e2dc-41e1-4e1b-e481-d0e76852921d",
        "colab": {
          "base_uri": "https://localhost:8080/",
          "height": 34
        }
      },
      "source": [
        "from sklearn.metrics import accuracy_score\n",
        "taxa_acerto = accuracy_score(testes_rede_y, previsoes)\n",
        "print(\"Taxa de acerto %.2f\" % (taxa_acerto*100))"
      ],
      "execution_count": null,
      "outputs": [
        {
          "output_type": "stream",
          "text": [
            "Taxa de acerto 0.00\n"
          ],
          "name": "stdout"
        }
      ]
    },
    {
      "cell_type": "code",
      "metadata": {
        "id": "xOn9crA0wnas"
      },
      "source": [
        ""
      ],
      "execution_count": null,
      "outputs": []
    }
  ]
}